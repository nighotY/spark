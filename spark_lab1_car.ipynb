{
 "cells": [
  {
   "attachments": {},
   "cell_type": "markdown",
   "metadata": {},
   "source": [
    "###  ======Challenge Exercise====="
   ]
  },
  {
   "cell_type": "code",
   "execution_count": 1,
   "metadata": {},
   "outputs": [],
   "source": [
    "#Importing the Libraries\n",
    "import findspark\n",
    "findspark.init()\n",
    "from pyspark import SparkContext\n",
    "# Creating Spark Session\n",
    "sc=SparkContext.getOrCreate()\n",
    "\n"
   ]
  },
  {
   "attachments": {},
   "cell_type": "markdown",
   "metadata": {},
   "source": [
    "1. Create an RDD using this cars.csv dataset. (Make sure to exclude the first two rows.)"
   ]
  },
  {
   "cell_type": "code",
   "execution_count": 47,
   "metadata": {},
   "outputs": [],
   "source": [
    "# cars_rd1=sc.textFile(\"spark_files/cars.csv\")\n",
    "# skip=cars_rd1.first()\n",
    "# res=cars_rd1.filter(lambda x:x!=skip)\n",
    "# len(res.collect())"
   ]
  },
  {
   "cell_type": "code",
   "execution_count": 49,
   "metadata": {},
   "outputs": [],
   "source": [
    "cars_rdd= sc.textFile(\"spark_files/cars.csv\").zipWithIndex().filter(lambda x: x[1]>1).map(lambda x:x[0])  #RDD using cars.csv dataset (excluding first two rows)"
   ]
  },
  {
   "cell_type": "code",
   "execution_count": 50,
   "metadata": {},
   "outputs": [
    {
     "data": {
      "text/plain": [
       "405"
      ]
     },
     "execution_count": 50,
     "metadata": {},
     "output_type": "execute_result"
    }
   ],
   "source": [
    "len(cars_rdd.collect())"
   ]
  },
  {
   "cell_type": "code",
   "execution_count": 51,
   "metadata": {},
   "outputs": [
    {
     "data": {
      "text/plain": [
       "['AMC Ambassador DPL,15,8,390,190,3850,8.5,70,US,2,NJ',\n",
       " 'AMC Ambassador SST,17,8,304,150,3672,11.5,72,US,4,DALLAS',\n",
       " 'AMC Concord,19.4,6,232,90,3210,17.2,78,US,52,TEXAS',\n",
       " 'AMC Concord,24.3,4,151,90,3003,20.1,80,US,42,OH',\n",
       " 'AMC Concord d/l,18.1,6,258,120,3410,15.1,78,US,4,NewYork']"
      ]
     },
     "execution_count": 51,
     "metadata": {},
     "output_type": "execute_result"
    }
   ],
   "source": [
    "cars_rdd.take(5)                             #first five reord from cars rdd"
   ]
  },
  {
   "cell_type": "code",
   "execution_count": 52,
   "metadata": {},
   "outputs": [
    {
     "data": {
      "text/plain": [
       "['AMC Ambassador DPL,15,8,390,190,3850,8.5,70,US,2,NJ',\n",
       " 'AMC Ambassador SST,17,8,304,150,3672,11.5,72,US,4,DALLAS',\n",
       " 'AMC Concord,19.4,6,232,90,3210,17.2,78,US,52,TEXAS',\n",
       " 'AMC Concord,24.3,4,151,90,3003,20.1,80,US,42,OH',\n",
       " 'AMC Concord d/l,18.1,6,258,120,3410,15.1,78,US,4,NewYork',\n",
       " 'AMC Concord DL,23,4,151,0,3035,20.5,82,US,45,NJ',\n",
       " 'AMC Concord DL 6,20.2,6,232,90,3265,18.2,79,US,328,DALLAS',\n",
       " 'AMC Gremlin,21,6,199,90,2648,15,70,US,68,TEXAS',\n",
       " 'AMC Gremlin,19,6,232,100,2634,13,71,US,78,OH',\n",
       " 'AMC Gremlin,18,6,232,100,2789,15,73,US,152,NewYork',\n",
       " 'AMC Gremlin,20,6,232,100,2914,16,75,US,214,NJ',\n",
       " 'AMC Hornet,18,6,199,97,2774,15.5,70,US,60,DALLAS',\n",
       " 'AMC Hornet,18,6,232,100,2945,16,73,US,144,TEXAS',\n",
       " 'AMC Hornet,19,6,232,100,2901,16,74,US,172,OH',\n",
       " 'AMC Hornet,22.5,6,232,90,3085,17.6,76,US,28,NewYork',\n",
       " 'AMC Hornet Sportabout (sw),18,6,258,110,2962,13.5,71,US,90,NJ',\n",
       " 'AMC Matador,18,6,232,100,3288,15.5,71,US,82,DALLAS',\n",
       " 'AMC Matador,14,8,304,150,3672,11.5,73,US,131,TEXAS',\n",
       " 'AMC Matador,16,6,258,110,3632,18,74,US,179,NewYork',\n",
       " 'AMC Matador,15,6,258,110,3730,19,75,US,207,NJ',\n",
       " 'AMC Matador,15.5,8,304,120,3962,13.9,76,US,234,DALLAS',\n",
       " 'AMC Matador (sw),15,8,304,150,3892,12.5,72,US,117,TEXAS',\n",
       " 'AMC Matador (sw),14,8,304,150,4257,15.5,74,US,185,OH',\n",
       " 'AMC Pacer,19,6,232,90,3211,17,75,US,221,NewYork',\n",
       " 'AMC Pacer d/l,17.5,6,258,95,3193,17.8,76,US,75,NJ',\n",
       " 'AMC Rebel SST,16,8,304,150,3433,12,70,US,4,DALLAS',\n",
       " 'AMC Rebel SST (sw),0,8,360,175,3850,11,70,US,53,TEXAS',\n",
       " 'AMC Spirit DL,27.4,4,121,80,2670,15,79,US,575,OH',\n",
       " 'Audi 100 LS,24,4,107,90,2430,14.5,70,Europe,65,NewYork',\n",
       " 'Audi 100LS,20,4,114,91,2582,14,73,Europe,164,NJ',\n",
       " 'Audi 100LS,23,4,115,95,2694,15,75,Europe,45,DALLAS',\n",
       " 'Audi 4000,34.3,4,97,78,2188,15.8,80,Europe,362,TEXAS',\n",
       " 'Audi 5000,20.3,5,131,103,2830,15.9,78,Europe,319,OH',\n",
       " 'Audi 5000s (diesel),36.4,5,121,67,2950,19.9,80,Europe,372,NewYork',\n",
       " 'Audi Fox,29,4,98,83,2219,16.5,74,Europe,186,NJ',\n",
       " 'BMW 2002,26,4,121,113,2234,12.5,70,Europe,67,DALLAS',\n",
       " 'BMW 320i,21.5,4,121,110,2600,12.8,77,Europe,287,TEXAS',\n",
       " 'Buick Century,17,6,231,110,3907,21,75,US,205,OH',\n",
       " 'Buick Century,22.4,6,231,110,3415,15.8,81,US,409,NewYork',\n",
       " 'Buick Century 350,13,8,350,175,4100,13,73,US,130,NJ',\n",
       " 'Buick Century Limited,25,6,181,110,2945,16.4,82,US,432,DALLAS',\n",
       " 'Buick Century Luxus (sw),13,8,350,150,4699,14.5,74,US,182,TEXAS',\n",
       " 'Buick Century Special,20.6,6,231,105,3380,15.8,78,US,303,OH',\n",
       " 'Buick Electra 225 Custom,12,8,455,225,4951,11,73,US,140,NewYork',\n",
       " 'Buick Estate Wagon (sw),14,8,455,225,3086,10,70,US,57,NJ',\n",
       " 'Buick Estate Wagon (sw),16.9,8,350,155,4360,14.9,79,US,334,DALLAS',\n",
       " 'Buick LeSabre Custom,13,8,350,155,4502,13.5,72,US,113,TEXAS',\n",
       " 'Buick Opel Isuzu Deluxe,30,4,111,80,2155,14.8,77,US,814,OH',\n",
       " 'Buick Regal Sport Coupe (turbo),17.7,6,231,165,3445,13.4,78,US,308,NewYork',\n",
       " 'Buick Skyhawk,21,6,231,110,3039,15,75,US,209,NJ',\n",
       " 'Buick Skylark,20.5,6,231,105,3425,16.9,77,US,271,DALLAS',\n",
       " 'Buick Skylark,26.6,4,151,84,2635,16.4,81,US,384,NewYork',\n",
       " 'Buick Skylark 320,15,8,350,165,3693,11.5,70,US,25,NJ',\n",
       " 'Buick Skylark Limited,28.4,4,151,90,2670,16,79,US,350,DALLAS',\n",
       " 'Cadillac Eldorado,23,8,350,125,3900,17.4,79,US,343,TEXAS',\n",
       " 'Cadillac Seville,16.5,8,350,180,4380,12.1,76,US,28,OH',\n",
       " 'Capri ii,25,4,140,92,2572,14.9,76,US,229,NewYork',\n",
       " 'Chevrolet Bel Air,15,8,350,145,4440,14,75,US,202,NJ',\n",
       " 'Chevrolet C10,13,8,350,145,4055,12,76,US,75,DALLAS',\n",
       " 'Chevrolet Camaro,27,4,151,90,2950,17.3,82,US,438,TEXAS',\n",
       " 'Chevrolet Caprice Classic,13,8,400,150,4464,12,73,US,136,OH',\n",
       " 'Chevrolet Caprice Classic,17.5,8,305,145,3880,12.5,77,US,266,NewYork',\n",
       " 'Chevrolet Caprice Classic,17,8,305,130,3840,15.4,79,US,330,NJ',\n",
       " 'Chevrolet Cavalier,28,4,112,88,2605,19.6,82,US,413,DALLAS',\n",
       " 'Chevrolet Cavalier 2-door,34,4,112,88,2395,18,82,US,415,TEXAS',\n",
       " 'Chevrolet Cavalier Wagon,27,4,112,88,2640,18.6,82,US,414,OH',\n",
       " 'Chevrolet Chevelle Concours (sw),0,8,350,165,4142,11.5,70,US,33,NewYork',\n",
       " 'Chevrolet Chevelle Concours (sw),13,8,307,130,4098,14,72,US,118,NJ',\n",
       " 'Chevrolet Chevelle Malibu,18,8,307,130,3504,12,70,US,20,DALLAS',\n",
       " 'Chevrolet Chevelle Malibu,17,6,250,100,3329,15.5,71,US,80,NewYork',\n",
       " 'Chevrolet Chevelle Malibu Classic,16,6,250,100,3781,17,74,US,178,NJ',\n",
       " 'Chevrolet Chevelle Malibu Classic,17.5,8,305,140,4215,13,76,US,232,DALLAS',\n",
       " 'Chevrolet Chevette,29,4,85,52,2035,22.2,76,US,240,TEXAS',\n",
       " 'Chevrolet Chevette,30.5,4,98,63,2051,17,77,US,282,OH',\n",
       " 'Chevrolet Chevette,30,4,98,68,2155,16.5,78,US,311,NewYork',\n",
       " 'Chevrolet Chevette,32.1,4,98,70,2120,15.5,80,US,356,NJ',\n",
       " 'Chevrolet Citation,28.8,6,173,115,2595,11.3,79,US,351,DALLAS',\n",
       " 'Chevrolet Citation,28,4,151,90,2678,16.5,80,US,358,TEXAS',\n",
       " 'Chevrolet Citation,23.5,6,173,110,2725,12.6,81,US,386,OH',\n",
       " 'Chevrolet Concours,17.5,6,250,110,3520,16.4,77,US,7,NewYork',\n",
       " 'Chevrolet Impala,14,8,454,220,4354,9,70,US,7,NJ',\n",
       " 'Chevrolet Impala,14,8,350,165,4209,12,71,US,83,DALLAS',\n",
       " 'Chevrolet Impala,13,8,350,165,4274,12,72,US,107,TEXAS',\n",
       " 'Chevrolet Impala,11,8,400,150,4997,14,73,US,148,OH',\n",
       " 'Chevrolet Malibu,13,8,350,145,3988,13,73,US,132,NewYork',\n",
       " 'Chevrolet Malibu,20.5,6,200,95,3155,18.2,78,US,298,NJ',\n",
       " 'Chevrolet Malibu Classic (sw),19.2,8,267,125,3605,15,79,US,336,DALLAS',\n",
       " 'Chevrolet Monte Carlo,15,8,400,150,3761,9.5,70,US,56,NewYork',\n",
       " 'Chevrolet Monte Carlo Landau,15.5,8,350,170,4165,11.4,77,US,275,NJ',\n",
       " 'Chevrolet Monte Carlo Landau,19.2,8,305,145,3425,13.2,78,US,307,DALLAS',\n",
       " 'Chevrolet Monte Carlo S,15,8,350,145,4082,13,73,US,160,TEXAS',\n",
       " 'Chevrolet Monza 2+2,20,8,262,110,3221,13.5,75,US,210,OH',\n",
       " 'Chevrolet Nova,15,6,250,100,3336,17,74,US,173,NewYork',\n",
       " 'Chevrolet Nova,18,6,250,105,3459,16,75,US,198,NJ',\n",
       " 'Chevrolet Nova,22,6,250,105,3353,14.5,76,US,237,DALLAS',\n",
       " 'Chevrolet Nova Custom,16,6,250,100,3278,18,73,US,143,TEXAS',\n",
       " 'Chevrolet Vega,20,4,140,90,2408,19.5,72,US,105,OH',\n",
       " 'Chevrolet Vega,21,4,140,72,2401,19.5,73,US,154,NewYork',\n",
       " 'Chevrolet Vega,25,4,140,75,2542,17,74,US,177,NJ',\n",
       " 'Chevrolet Vega (sw),22,4,140,72,2408,19,71,US,91,DALLAS',\n",
       " 'Chevrolet Vega 2300,28,4,140,90,2264,15.5,71,US,74,TEXAS',\n",
       " 'Chevrolet Woody,24.5,4,98,60,2164,22.1,76,US,241,OH',\n",
       " 'Chevrolete Chevelle Malibu,16,6,250,105,3897,18.5,75,US,206,NewYork',\n",
       " 'Chevy C20,10,8,307,200,4376,15,70,US,70,NJ',\n",
       " 'Chevy S-10,31,4,119,82,2720,19.4,82,US,7,NewYork',\n",
       " 'Chrysler Cordoba,15.5,8,400,190,4325,12.2,77,US,7,NJ',\n",
       " 'Chrysler Lebaron Medallion,26,4,156,92,2585,14.5,82,US,434,DALLAS',\n",
       " 'Chrysler Lebaron Salon,17.6,6,225,85,3465,16.6,81,US,412,TEXAS',\n",
       " 'Chrysler Lebaron Town @ Country (sw),18.5,8,360,150,3940,13,79,US,337,OH',\n",
       " 'Chrysler New Yorker Brougham,13,8,440,215,4735,11,73,US,139,NewYork',\n",
       " 'Chrysler Newport Royal,13,8,400,190,4422,12.5,72,US,115,NJ',\n",
       " 'Citroen DS-21 Pallas,0,4,133,115,3090,17.5,70,Europe,58,DALLAS',\n",
       " 'Datsun 1200,35,4,72,69,1613,18,71,Japan,99,TEXAS',\n",
       " 'Datsun 200SX,32.9,4,119,100,2615,14.8,81,Japan,402,OH',\n",
       " 'Datsun 200-SX,23.9,4,119,97,2405,14.9,78,Japan,318,NewYork',\n",
       " 'Datsun 210,31.8,4,85,65,2020,19.2,79,Japan,348,NJ',\n",
       " 'Datsun 210,40.8,4,85,65,2110,19.2,80,Japan,369,DALLAS',\n",
       " 'Datsun 210 MPG,37,4,85,65,1975,19.4,81,Japan,392,TEXAS',\n",
       " 'Datsun 280-ZX,32.7,6,168,132,2910,11.4,80,Japan,378,OH',\n",
       " 'Datsun 310,37.2,4,86,65,2019,16.4,80,Japan,357,NewYork',\n",
       " 'Datsun 310 GX,38,4,91,67,1995,16.2,82,Japan,431,NJ',\n",
       " 'Datsun 510,27.2,4,119,97,2300,14.7,78,Japan,313,DALLAS',\n",
       " 'Datsun 510 (sw),28,4,97,92,2288,17,72,Japan,126,TEXAS',\n",
       " 'Datsun 510 Hatchback,37,4,119,92,2434,15,80,Japan,365,NewYork',\n",
       " 'Datsun 610,22,4,108,94,2379,16.5,73,Japan,155,NewYork',\n",
       " 'Datsun 710,32,4,83,61,2003,19,74,Japan,190,NJ',\n",
       " 'Datsun 710,24,4,119,97,2545,17,75,Japan,218,DALLAS',\n",
       " 'Datsun 810,22,6,146,97,2815,14.5,77,Japan,286,TEXAS',\n",
       " 'Datsun 810 Maxima,24.2,6,146,120,2930,13.8,81,Japan,408,OH',\n",
       " 'Datsun B210,31,4,79,67,1950,19,74,Japan,174,NewYork',\n",
       " 'Datsun B-210,32,4,85,70,1990,17,76,Japan,249,NJ',\n",
       " 'Datsun B210 GX,39.4,4,85,70,2070,18.6,78,Japan,292,DALLAS',\n",
       " 'Datsun F-10 Hatchback,33.5,4,85,70,1945,16.8,77,Japan,265,TEXAS',\n",
       " 'Datsun PL510,27,4,97,88,2130,14.5,70,Japan,62,OH',\n",
       " 'Datsun PL510,27,4,97,88,2130,14.5,71,Japan,73,NewYork',\n",
       " 'Dodge Aries SE,29,4,135,84,2525,16,82,US,417,NJ',\n",
       " 'Dodge Aries Wagon (sw),25.8,4,156,92,2620,14.4,81,US,385,DALLAS',\n",
       " 'Dodge Aspen,18.6,6,225,110,3620,18.7,78,US,305,TEXAS',\n",
       " 'Dodge Aspen,19.1,6,225,90,3381,18.7,80,US,361,OH',\n",
       " 'Dodge Aspen 6,20.6,6,225,110,3360,16.6,79,US,329,NewYork',\n",
       " 'Dodge Aspen SE,20,6,225,100,3651,17.7,76,US,244,NJ',\n",
       " 'Dodge Challenger SE,15,8,383,170,3563,10,70,US,67,DALLAS',\n",
       " 'Dodge Charger 2.2,36,4,135,84,2370,13,82,US,75,TEXAS',\n",
       " 'Dodge Colt,28,4,90,75,2125,14.5,74,US,191,NewYork',\n",
       " 'Dodge Colt,26,4,98,79,2255,17.7,76,US,230,NJ',\n",
       " 'Dodge Colt,27.9,4,156,105,2800,14.4,80,US,368,DALLAS',\n",
       " 'Dodge Colt (sw),28,4,98,80,2164,15,72,US,128,TEXAS',\n",
       " 'Dodge Colt Hardtop,25,4,97.5,80,2126,17,72,US,103,OH',\n",
       " 'Dodge Colt Hatchback Custom,35.7,4,98,80,1915,14.4,79,US,340,NewYork',\n",
       " 'Dodge Colt m/m,33.5,4,98,83,2075,15.9,77,US,283,NJ',\n",
       " 'Dodge Coronet Brougham,16,8,318,150,4190,13,76,US,233,DALLAS',\n",
       " 'Dodge Coronet Custom,15,8,318,150,3777,12.5,73,US,134,TEXAS',\n",
       " 'Dodge Coronet Custom (sw),14,8,318,150,4457,13.5,74,US,183,OH',\n",
       " 'Dodge D100,13,8,318,150,3755,14,76,US,260,NewYork',\n",
       " 'Dodge D200,11,8,318,210,4382,13.5,70,US,71,NJ',\n",
       " 'Dodge Dart Custom,15,8,318,150,3399,11,73,US,166,DALLAS',\n",
       " 'Dodge Diplomat,19.4,8,318,140,3735,13.2,78,US,295,TEXAS',\n",
       " 'Dodge Magnum XE,17.5,8,318,140,4080,13.7,78,US,310,OH',\n",
       " 'Dodge Monaco (sw),12,8,383,180,4955,11.5,71,US,87,NewYork',\n",
       " 'Dodge Monaco Brougham,15.5,8,318,145,4140,13.7,77,US,268,NJ',\n",
       " 'Dodge Omni,30.9,4,105,75,2230,14.5,78,US,314,DALLAS',\n",
       " 'Dodge Rampage,32,4,135,84,2295,11.6,82,US,57,TEXAS',\n",
       " 'Dodge St. Regis,18.2,8,318,135,3830,15.2,79,US,333,OH',\n",
       " 'Fiat 124 Sport Coupe,26,4,98,90,2265,15.5,73,Europe,159,NewYork',\n",
       " 'Fiat 124 TC,26,4,116,75,2246,14,74,Europe,193,NJ',\n",
       " 'Fiat 124B,30,4,88,76,2065,14.5,71,Europe,97,DALLAS',\n",
       " 'Fiat 128,29,4,68,49,1867,19.5,73,Europe,162,TEXAS',\n",
       " 'Fiat 128,24,4,90,75,2108,15.5,74,Europe,192,OH',\n",
       " 'Fiat 131,28,4,107,86,2464,15.5,76,Europe,227,NewYork',\n",
       " 'Fiat Strada Custom,37.3,4,91,69,2130,14.7,79,Europe,349,NJ',\n",
       " 'Fiat x1.9,31,4,79,67,2000,16,74,Europe,196,DALLAS',\n",
       " 'Ford Country,12,8,400,167,4906,12.5,73,US,149,TEXAS',\n",
       " 'Ford Country Squire (sw),13,8,400,170,4746,12,71,US,88,OH',\n",
       " 'Ford Country Squire (sw),15.5,8,351,142,4054,14.3,79,US,335,NewYork',\n",
       " 'Ford Escort 2H,29.9,4,98,65,2380,20.7,81,US,397,NJ',\n",
       " 'Ford Escort 4W,34.4,4,98,65,2045,16.2,81,US,396,DALLAS',\n",
       " 'Ford F108,13,8,302,130,3870,15,76,US,259,NewYork',\n",
       " 'Ford F250,10,8,360,215,4615,14,70,US,69,NJ',\n",
       " 'Ford Fairmont,26.4,4,140,88,2870,18.1,80,US,359,DALLAS',\n",
       " 'Ford Fairmont (auto),20.2,6,200,85,2965,15.8,78,US,299,TEXAS',\n",
       " 'Ford Fairmont (man),25.1,4,140,88,2720,15.4,78,US,300,OH',\n",
       " 'Ford Fairmont 4,22.3,4,140,88,2890,17.3,79,US,327,NewYork',\n",
       " 'Ford Fairmont Futura,24,4,140,92,2865,16.4,82,US,419,NJ',\n",
       " 'Ford Fiesta,36.1,4,98,66,1800,14.4,78,US,290,DALLAS',\n",
       " 'Ford Futura,18.1,8,302,139,3205,11.2,78,US,57,TEXAS',\n",
       " 'Ford Galaxie 500,15,8,429,198,4341,10,70,US,8,OH',\n",
       " 'Ford Galaxie 500,14,8,351,153,4154,13.5,71,US,85,NewYork',\n",
       " 'Ford Galaxie 500,14,8,351,153,4129,13,72,US,110,NJ',\n",
       " 'Ford Gran Torino,14,8,302,137,4042,14.5,73,US,133,DALLAS',\n",
       " 'Ford Gran Torino,16,8,302,140,4141,14,74,US,181,TEXAS',\n",
       " 'Ford Gran Torino,14.5,8,351,152,4215,12.8,76,US,235,OH',\n",
       " 'Ford Gran Torino (sw),13,8,302,140,4294,16,72,US,119,NewYork',\n",
       " 'Ford Gran Torino (sw),14,8,302,140,4638,16,74,US,184,NJ',\n",
       " 'Ford Grenada,18.5,6,250,98,3525,19,77,US,273,DALLAS',\n",
       " 'Ford Grenada ghia,18,6,250,78,3574,21,76,US,245,NewYork',\n",
       " 'Ford Grenada gl,20.2,6,200,88,3060,17.1,81,US,411,NJ',\n",
       " 'Ford Grenada l,22,6,232,112,2835,14.7,82,US,28,DALLAS',\n",
       " 'Ford LTD,13,8,351,158,4363,13,73,US,137,TEXAS',\n",
       " 'Ford LTD,14,8,351,148,4657,13.5,75,US,18,OH',\n",
       " 'Ford LTD Landau,17.6,8,302,129,3725,13.4,79,US,331,NewYork',\n",
       " 'Ford Maverick,21,6,200,85,2587,16,70,US,61,NJ',\n",
       " 'Ford Maverick,18,6,250,88,3021,16.5,73,US,145,DALLAS',\n",
       " 'Ford Maverick,21,6,200,0,2875,17,74,US,171,TEXAS',\n",
       " 'Ford Maverick,15,6,250,72,3158,19.5,75,US,200,OH',\n",
       " 'Ford Maverick,24,6,200,81,3012,17.6,76,US,238,NewYork',\n",
       " 'Ford Mustang,18,6,250,88,3139,14.5,71,US,93,NJ',\n",
       " 'Ford Mustang Boss 302,0,8,302,140,3353,8,70,US,75,DALLAS',\n",
       " 'Ford Mustang Cobra,23.6,4,140,0,2905,14.3,80,US,381,TEXAS',\n",
       " 'Ford Mustang GL,27,4,140,86,2790,15.6,82,US,439,OH',\n",
       " 'Ford Mustang II,13,8,302,129,3169,12,75,US,211,NewYork',\n",
       " 'Ford Mustang II 2+2,25.5,4,140,89,2755,15.8,77,US,5,NJ',\n",
       " 'Ford Pinto,25,4,98,0,2046,19,71,US,76,DALLAS',\n",
       " 'Ford Pinto,19,4,122,85,2310,18.5,73,US,157,NewYork',\n",
       " 'Ford Pinto,26,4,122,80,2451,16.5,74,US,175,NJ',\n",
       " 'Ford Pinto,23,4,140,83,2639,17,75,US,213,DALLAS',\n",
       " 'Ford Pinto,18,6,171,97,2984,14.5,75,US,155,TEXAS',\n",
       " 'Ford Pinto,26.5,4,140,72,2565,13.6,76,US,251,OH',\n",
       " 'Ford Pinto (sw),22,4,122,86,2395,16,72,US,125,NewYork',\n",
       " 'Ford Pinto Runabout,21,4,122,86,2226,16.5,72,US,106,NJ',\n",
       " 'Ford Ranger,28,4,120,79,2625,18.6,82,US,7,DALLAS',\n",
       " 'Ford Thunderbird,16,8,351,149,4335,14.5,77,US,277,TEXAS',\n",
       " 'Ford Torino,17,8,302,140,3449,10.5,70,US,5,OH',\n",
       " 'Ford Torino (sw),0,8,351,153,4034,11,70,US,56,NewYork',\n",
       " 'Ford Torino 500,19,6,250,88,3302,15.5,71,US,81,NJ',\n",
       " 'Hi 1200D,9,8,304,193,4732,18.5,70,US,72,DALLAS',\n",
       " 'Honda Accord,32.4,4,107,72,2290,17,80,Japan,382,TEXAS',\n",
       " 'Honda Accord,36,4,107,75,2205,14.5,82,Japan,427,OH',\n",
       " 'Honda Accord CVCC,31.5,4,98,68,2045,18.5,77,Japan,261,NewYork',\n",
       " 'Honda Accord LX,29.5,4,98,68,2135,16.6,78,Japan,7,NJ',\n",
       " 'Honda Civic,24,4,120,97,2489,15,74,Japan,194,NewYork',\n",
       " 'Honda Civic,33,4,91,53,1795,17.4,76,Japan,243,NJ',\n",
       " 'Honda Civic,38,4,91,67,1965,15,82,Japan,82,DALLAS',\n",
       " 'Honda Civic (auto),32,4,91,67,1965,15.7,82,Japan,430,TEXAS',\n",
       " 'Honda Civic 1300,35.1,4,81,60,1760,16.1,81,Japan,390,OH',\n",
       " 'Honda Civic 1500 gl,44.6,4,91,67,1850,13.8,80,Japan,374,NewYork',\n",
       " 'Honda Civic CVCC,33,4,91,53,1795,17.5,75,Japan,226,NJ',\n",
       " 'Honda Civic CVCC,36.1,4,91,60,1800,16.4,78,Japan,293,DALLAS',\n",
       " 'Honda Prelude,33.7,4,107,75,2210,14.4,81,Japan,400,TEXAS',\n",
       " 'Mazda 626,31.3,4,120,75,2542,17.5,80,Japan,364,OH',\n",
       " 'Mazda 626,31.6,4,120,74,2635,18.3,81,Japan,403,NewYork',\n",
       " 'Mazda GLC,46.6,4,86,65,2110,17.9,80,Japan,367,NJ',\n",
       " 'Mazda GLC 4,34.1,4,91,68,1985,16,81,Japan,394,DALLAS',\n",
       " 'Mazda GLC Custom,31,4,91,68,1970,17.6,82,Japan,423,TEXAS',\n",
       " 'Mazda GLC Custom l,37,4,91,68,2025,18.2,82,Japan,422,OH',\n",
       " 'Mazda GLC Deluxe,32.8,4,78,52,1985,19.4,78,Japan,291,NewYork',\n",
       " 'Mazda GLC Deluxe,34.1,4,86,65,1975,15.2,79,Japan,7,NJ',\n",
       " 'Mazda RX2 Coupe,19,3,70,97,2330,13.5,72,Japan,116,DALLAS',\n",
       " 'Mazda RX3,18,3,70,90,2124,13.5,73,Japan,156,TEXAS',\n",
       " 'Mazda RX-4,21.5,3,80,110,2720,13.5,77,Japan,288,NewYork',\n",
       " 'Mazda RX-7 GS,23.7,3,70,100,2420,12.5,80,Japan,379,NewYork',\n",
       " 'Mercedes Benz 300d,25.4,5,183,77,3530,20.1,79,Europe,342,NJ',\n",
       " 'Mercedes-Benz 240d,30,4,146,67,3250,21.8,80,Europe,373,DALLAS',\n",
       " 'Mercedes-Benz 280s,16.5,6,168,120,3820,16.7,76,Europe,256,TEXAS',\n",
       " 'Mercury Capri 2000,23,4,122,86,2220,14,71,US,94,OH',\n",
       " 'Mercury Capri v6,21,6,155,107,2472,14,73,US,158,NewYork',\n",
       " 'Mercury Cougar Brougham,15,8,302,130,4295,14.9,77,US,27,NJ',\n",
       " 'Mercury Grand Marquis,16.5,8,351,138,3955,13.2,79,US,332,DALLAS',\n",
       " 'Mercury Lynx l,36,4,98,70,2125,17.3,82,US,425,TEXAS',\n",
       " 'Mercury Marquis,11,8,429,208,4633,11,72,US,112,OH',\n",
       " 'Mercury Marquis Brougham,12,8,429,198,4952,11.5,73,US,135,NewYork',\n",
       " 'Mercury Monarch,15,6,250,72,3432,21,75,US,199,NJ',\n",
       " 'Mercury Monarch ghia,20.2,8,302,139,3570,12.8,78,US,296,DALLAS',\n",
       " 'Mercury Zephyr,20.8,6,200,85,3070,16.7,78,US,304,TEXAS',\n",
       " 'Mercury Zephyr 6,19.8,6,200,85,2990,18.2,79,US,326,OH',\n",
       " 'Nissan Stanza XE,36,4,120,88,2160,14.5,82,Japan,8,NewYork',\n",
       " 'Oldsmobile Cutlass Ciera (diesel),38,6,262,85,3015,17,82,US,28,NJ',\n",
       " 'Oldsmobile Cutlass LS,26.6,8,350,105,3725,19,81,US,410,DALLAS',\n",
       " 'Oldsmobile Cutlass Salon Brougham,19.9,8,260,110,3365,15.5,78,US,294,TEXAS',\n",
       " 'Oldsmobile Cutlass Salon Brougham,23.9,8,260,90,3420,22.2,79,US,345,NewYork',\n",
       " 'Oldsmobile Cutlass Supreme,17,8,260,110,4060,19,77,US,752,NJ',\n",
       " 'Oldsmobile Delta 88 Royale,12,8,350,160,4456,13.5,72,US,114,DALLAS',\n",
       " 'Oldsmobile Omega,11,8,350,180,3664,11,73,US,169,TEXAS',\n",
       " 'Oldsmobile Omega Brougham,26.8,6,173,115,2700,12.9,79,US,352,OH',\n",
       " 'Oldsmobile Starfire SX,23.8,4,151,85,2855,17.6,78,US,317,NewYork',\n",
       " 'Oldsmobile Vista Cruiser,12,8,350,180,4499,12.5,73,US,151,NJ',\n",
       " 'Opel 1900,28,4,116,90,2123,14,71,Europe,95,DALLAS',\n",
       " 'Opel 1900,25,4,116,81,2220,16.9,76,Europe,25,TEXAS',\n",
       " 'Opel Manta,24,4,116,75,2158,15.5,73,Europe,163,OH',\n",
       " 'Opel Manta,26,4,97,78,2300,14.5,74,Europe,188,NewYork',\n",
       " 'Peugeot 304,30,4,79,70,2074,19.5,71,Europe,96,NJ',\n",
       " 'Peugeot 504,25,4,110,87,2672,17.5,70,Europe,64,DALLAS',\n",
       " 'Peugeot 504,23,4,120,88,2957,17,75,Europe,74,TEXAS',\n",
       " 'Peugeot 504,19,4,120,88,3270,21.9,76,Europe,254,OH',\n",
       " 'Peugeot 504,27.2,4,141,71,3190,24.8,79,Europe,344,NewYork',\n",
       " 'Peugeot 504 (sw),21,4,120,87,2979,19.5,72,Europe,123,NJ',\n",
       " 'Peugeot 505s Turbo Diesel,28.1,4,141,80,3230,20.4,81,Europe,404,DALLAS',\n",
       " 'Peugeot 604sl,16.2,6,163,133,3410,15.8,78,Europe,322,TEXAS',\n",
       " 'Plymouth Arrow GS,25.5,4,122,96,2300,15.5,77,US,75275,OH',\n",
       " 'Plymouth Champ,39,4,86,64,1875,16.4,81,US,389,NewYork',\n",
       " 'Plymouth Cricket,26,4,91,70,1955,20.5,71,US,101,NJ',\n",
       " \"Plymouth 'Cuda 340,14,8,340,160,3609,8,70,US,44,DALLAS\",\n",
       " 'Plymouth Custom Suburb,13,8,360,170,4654,13,73,US,150,TEXAS',\n",
       " 'Plymouth Duster,22,6,198,95,2833,15.5,70,US,59,OH',\n",
       " 'Plymouth Duster,23,6,198,95,2904,16,73,US,146,NewYork',\n",
       " 'Plymouth Duster,20,6,198,95,3102,16.5,74,US,170,NJ',\n",
       " 'Plymouth Fury,18,6,225,95,3785,19,75,US,208,DALLAS',\n",
       " 'Plymouth Fury Gran Sedan,14,8,318,150,4237,14.5,73,US,138,TEXAS',\n",
       " 'Plymouth Fury iii,14,8,440,215,4312,8.5,70,US,53,OH',\n",
       " 'Plymouth Fury iii,14,8,318,150,4096,13,71,US,86,NewYork',\n",
       " 'Plymouth Fury III,15,8,318,150,4135,13.5,72,US,109,NJ',\n",
       " 'Plymouth Grand Fury,16,8,318,150,4498,14.5,75,US,203,DALLAS',\n",
       " 'Plymouth Horizon,34.2,4,105,70,2200,13.2,79,US,346,NewYork',\n",
       " 'Plymouth Horizon 4,34.7,4,105,63,2215,14.9,81,US,395,NJ',\n",
       " 'Plymouth Horizon Miser,38,4,105,63,2125,14.7,82,US,424,DALLAS',\n",
       " 'Plymouth Horizon TC3,34.5,4,105,70,2150,14.9,79,US,347,TEXAS',\n",
       " 'Plymouth Reliant,27.2,4,135,84,2490,15.7,81,US,383,OH',\n",
       " 'Plymouth Reliant,30,4,135,84,2385,12.9,81,US,387,NewYork',\n",
       " 'Plymouth Sapporo,23.2,4,156,105,2745,16.7,78,US,316,NJ',\n",
       " 'Plymouth Satellite,18,8,318,150,3436,11,70,US,100,DALLAS',\n",
       " 'Plymouth Satellite (sw),0,8,383,175,4166,10.5,70,US,56,TEXAS',\n",
       " 'Plymouth Satellite Custom,16,6,225,105,3439,15.5,71,US,79,OH',\n",
       " 'Plymouth Satellite Custom (sw),14,8,318,150,4077,14,72,US,120,NewYork',\n",
       " 'Plymouth Satellite Sebring,18,6,225,105,3613,16.5,74,US,180,NJ',\n",
       " 'Plymouth Valiant,18,6,225,105,3121,16.5,73,US,142,DALLAS',\n",
       " 'Plymouth Valiant,22,6,225,100,3233,15.4,76,US,236,TEXAS',\n",
       " 'Plymouth Valiant Custom,19,6,225,95,3264,16,75,US,197,OH',\n",
       " 'Plymouth Volare,20.5,6,225,100,3430,17.2,78,US,301,NewYork',\n",
       " 'Plymouth Volare Custom,19,6,225,100,3630,17.7,77,US,75,NJ',\n",
       " 'Plymouth Volare Premier v8,13,8,318,150,3940,13.2,76,US,253,DALLAS',\n",
       " 'Pontiac Astro,23,4,140,78,2592,18.5,75,US,215,NewYork',\n",
       " 'Pontiac Catalina,14,8,455,225,4425,10,70,US,39,NJ',\n",
       " 'Pontiac Catalina,14,8,400,175,4385,12,72,US,108,DALLAS',\n",
       " 'Pontiac Catalina,16,8,400,170,4668,11.5,75,US,201,TEXAS',\n",
       " 'Pontiac Catalina Brougham,14,8,400,175,4464,11.5,71,US,84,OH',\n",
       " 'Pontiac Firebird,19,6,250,100,3282,15,71,US,92,NewYork',\n",
       " 'Pontiac Grand Prix,16,8,400,230,4278,9.5,73,US,161,NJ',\n",
       " 'Pontiac Grand Prix LJ,16,8,400,180,4220,11.1,77,US,274,DALLAS',\n",
       " 'Pontiac J2000 SE Hatchback,31,4,112,85,2575,16.2,82,US,416,TEXAS',\n",
       " 'Pontiac Lemans V6,21.5,6,231,115,3245,15.4,79,US,325,OH',\n",
       " 'Pontiac Phoenix,33.5,4,151,90,2556,13.2,79,US,353,NewYork',\n",
       " 'Pontiac Phoenix,27,4,151,90,2735,18,82,US,418,NJ',\n",
       " 'Pontiac Phoenix LJ,19.2,6,231,105,3535,19.2,78,US,297,DALLAS',\n",
       " 'Pontiac Safari (sw),13,8,400,175,5140,12,71,US,89,TEXAS',\n",
       " 'Pontiac Sunbird Coupe,24.5,4,151,88,2740,16,77,US,279,OH',\n",
       " 'Pontiac Ventura SJ,18.5,6,250,110,3645,16.2,76,US,285,NewYork',\n",
       " 'Renault 12 (sw),26,4,96,69,2189,18,72,Europe,124,NJ',\n",
       " 'Renault 12tl,27,4,101,83,2202,15.3,76,Europe,231,DALLAS',\n",
       " 'Renault 18i,34.5,4,100,0,2320,15.8,81,Europe,399,NewYork',\n",
       " 'Renault 5 GTL,36,4,79,58,1825,18.6,77,Europe,263,NJ',\n",
       " 'Renault Lecar Deluxe,40.9,4,85,0,1835,17.3,80,Europe,375,DALLAS',\n",
       " 'Saab 900s,0,4,121,110,2800,15.4,81,Europe,405,TEXAS',\n",
       " 'Saab 99e,25,4,104,95,2375,17.5,70,Europe,66,OH',\n",
       " 'Saab 99gle,21.6,4,121,115,2795,15.7,78,Europe,7,NewYork',\n",
       " 'Saab 99le,24,4,121,110,2660,14,73,Europe,167,NJ',\n",
       " 'Saab 99LE,25,4,121,115,2671,13.5,75,Europe,225,DALLAS',\n",
       " 'Subaru,26,4,108,93,2391,15.5,74,Japan,195,TEXAS',\n",
       " 'Subaru,32.3,4,97,67,2065,17.8,81,Japan,391,OH',\n",
       " 'Subaru DL,30,4,97,67,1985,16.4,77,Japan,284,NewYork',\n",
       " 'Subaru DL,33.8,4,97,67,2145,18,80,Japan,376,NJ',\n",
       " 'Toyota Camry,20,4,97,88,2279,19,73,Japan,153,DALLAS',\n",
       " 'Toyota Celica GT,32,4,144,96,2665,13.9,82,Japan,436,TEXAS',\n",
       " 'Toyota Celica GT Liftback,21.1,4,134,95,2515,14.8,78,Japan,315,OH',\n",
       " 'Toyota Corolla,25,4,113,95,2228,14,71,Japan,75,NewYork',\n",
       " 'Toyota Corolla,31,4,76,52,1649,16.5,74,Japan,189,NJ',\n",
       " 'Toyota Corolla,29,4,97,75,2171,16,75,Japan,212,NewYork',\n",
       " 'Toyota Corolla,24,4,134,96,2702,13.5,75,Japan,216,NJ',\n",
       " 'Toyota Corolla,28,4,97,75,2155,16.4,76,Japan,7,DALLAS',\n",
       " 'Toyota Corolla,27.5,4,134,95,2560,14.2,78,Japan,312,TEXAS',\n",
       " 'Toyota Corolla,32.2,4,108,75,2265,15.2,80,Japan,366,OH',\n",
       " 'Toyota Corolla,32.4,4,108,75,2350,16.8,81,Japan,401,NewYork',\n",
       " 'Toyota Corolla,34,4,108,70,2245,16.9,82,Japan,428,NJ',\n",
       " 'Toyota Corolla 1200,31,4,71,65,1773,19,71,Japan,98,DALLAS',\n",
       " 'Toyota Corolla 1200,32,4,71,65,1836,21,74,Japan,176,TEXAS',\n",
       " 'Toyota Corolla 1600 (sw),27,4,97,88,2100,16.5,72,Japan,129,OH',\n",
       " 'Toyota Corolla Hardtop,24,4,113,95,2278,15.5,72,Japan,102,NewYork',\n",
       " 'Toyota Corolla Liftback,26,4,97,75,2265,18.2,77,Japan,280,NJ',\n",
       " 'Toyota Corolla Liftback,29.8,4,134,90,2711,15.5,80,Japan,363,DALLAS',\n",
       " 'Toyota Corolla Mark ii,24,4,113,95,2372,15,70,Japan,58,TEXAS',\n",
       " 'Toyota Corolla Mark II (sw),23,4,120,97,2506,14.5,72,Japan,127,OH',\n",
       " 'Toyota Corolla Tercel,38.1,4,89,60,1968,18.8,80,Japan,355,NewYork',\n",
       " 'Toyota Cressida,25.4,6,168,116,2900,12.6,81,Japan,407,NJ',\n",
       " 'Toyota Mark II,20,6,156,122,2807,13.5,73,Japan,168,DALLAS',\n",
       " 'Toyota Mark II,19,6,156,108,2930,15.5,76,Japan,757,TEXAS',\n",
       " 'Toyota Starlet,39.1,4,79,58,1755,16.9,81,Japan,388,NewYork',\n",
       " 'Toyota Tercel,37.7,4,89,62,2050,17.3,81,Japan,393,NewYork',\n",
       " 'Triumph TR7 Coupe,35,4,122,88,2500,15.1,80,Europe,380,NJ',\n",
       " 'Volkswagen 1131 Deluxe Sedan,26,4,97,46,1835,20.5,70,Europe,63,DALLAS',\n",
       " 'Volkswagen 411 (sw),22,4,121,76,2511,18,72,Europe,122,TEXAS',\n",
       " 'Volkswagen Dasher,26,4,79,67,1963,15.5,74,Europe,187,OH',\n",
       " 'Volkswagen Dasher,25,4,90,71,2223,16.5,75,Europe,217,NewYork',\n",
       " 'Volkswagen Dasher,30.5,4,97,78,2190,14.1,77,Europe,285,NJ',\n",
       " 'Volkswagen Dasher (diesel),43.4,4,90,48,2335,23.7,80,Europe,371,DALLAS',\n",
       " 'Volkswagen Jetta,33,4,105,74,2190,14.2,81,Europe,398,TEXAS',\n",
       " 'Volkswagen Model 111,27,4,97,60,1834,19,71,Europe,100,OH',\n",
       " 'Volkswagen Pickup,44,4,97,52,2130,24.6,82,Europe,96,NewYork',\n",
       " 'Volkswagen Rabbit,29,4,90,70,1937,14,75,Europe,220,NJ',\n",
       " 'Volkswagen Rabbit,29,4,90,70,1937,14.2,76,Europe,242,DALLAS',\n",
       " 'Volkswagen Rabbit,29.5,4,97,71,1825,12.2,76,Europe,248,TEXAS',\n",
       " 'Volkswagen Rabbit,41.5,4,98,76,2144,14.7,80,Europe,354,OH',\n",
       " 'Volkswagen Rabbit,29.8,4,89,62,1845,15.3,80,Europe,377,NewYork',\n",
       " 'Volkswagen Rabbit C (Diesel),44.3,4,90,48,2085,21.7,80,Europe,370,NJ',\n",
       " 'Volkswagen Rabbit Custom,29,4,97,78,1940,14.5,77,Europe,278,DALLAS',\n",
       " 'Volkswagen Rabbit Custom,31.9,4,89,71,1925,14,79,Europe,338,TEXAS',\n",
       " 'Volkswagen Rabbit Custom Diesel,43.1,4,90,48,1985,21.5,78,Europe,289,NewYork',\n",
       " 'Volkswagen Rabbit l,36,4,105,74,1980,15.3,82,Europe,421,NJ',\n",
       " 'Volkswagen Scirocco,31.5,4,89,71,1990,14.9,78,Europe,323,DALLAS',\n",
       " 'Volkswagen Super Beetle,26,4,97,46,1950,21,73,Europe,147,TEXAS',\n",
       " 'Volkswagen Super Beetle 117,0,4,97,48,1978,20,71,Europe,77,OH',\n",
       " 'Volkswagen Type 3,23,4,97,54,2254,23.5,72,Europe,104,NewYork',\n",
       " 'Volvo 144ea,19,4,121,112,2868,15.5,73,Europe,165,NJ',\n",
       " 'Volvo 145e (sw),18,4,121,112,2933,14.5,72,Europe,121,DALLAS',\n",
       " 'Volvo 244DL,22,4,121,98,2945,14.5,75,Europe,4,TEXAS',\n",
       " 'Volvo 245,20,4,130,102,3150,15.7,76,Europe,7,OH',\n",
       " 'Volvo 264gl,17,6,163,125,3140,13.6,78,Europe,320,NewYork',\n",
       " 'Volvo Diesel,30.7,6,145,76,3160,19.6,81,Europe,406,NJ']"
      ]
     },
     "execution_count": 52,
     "metadata": {},
     "output_type": "execute_result"
    }
   ],
   "source": [
    "cars_rdd.collect()                                #"
   ]
  },
  {
   "attachments": {},
   "cell_type": "markdown",
   "metadata": {},
   "source": [
    "2. Create three sample RDDs from the RDD without replacement.  \n",
    "    a. Two 10 percent samples   \n",
    "    b. One 20 percent sample.   \n"
   ]
  },
  {
   "cell_type": "code",
   "execution_count": 53,
   "metadata": {},
   "outputs": [],
   "source": [
    "#   a. Two 10 percent samples\n",
    "sample_rdd1=cars_rdd.sample(False,0.1)\n",
    "sample_rdd2=cars_rdd.sample(False,0.1)\n",
    "#    b. One 20 percent sample.\n",
    "sample_rdd3=cars_rdd.sample(False,0.2)"
   ]
  },
  {
   "cell_type": "code",
   "execution_count": 54,
   "metadata": {},
   "outputs": [
    {
     "data": {
      "text/plain": [
       "['AMC Ambassador SST,17,8,304,150,3672,11.5,72,US,4,DALLAS',\n",
       " 'AMC Matador,14,8,304,150,3672,11.5,73,US,131,TEXAS',\n",
       " 'Buick Skylark 320,15,8,350,165,3693,11.5,70,US,25,NJ',\n",
       " 'Chevrolet Cavalier,28,4,112,88,2605,19.6,82,US,413,DALLAS',\n",
       " 'Chevrolet Chevelle Malibu Classic,16,6,250,100,3781,17,74,US,178,NJ',\n",
       " 'Chevrolet Chevelle Malibu Classic,17.5,8,305,140,4215,13,76,US,232,DALLAS',\n",
       " 'Chevrolet Impala,13,8,350,165,4274,12,72,US,107,TEXAS',\n",
       " 'Chevrolet Impala,11,8,400,150,4997,14,73,US,148,OH',\n",
       " 'Chevrolete Chevelle Malibu,16,6,250,105,3897,18.5,75,US,206,NewYork',\n",
       " 'Datsun B-210,32,4,85,70,1990,17,76,Japan,249,NJ',\n",
       " 'Dodge Aspen,19.1,6,225,90,3381,18.7,80,US,361,OH',\n",
       " 'Dodge Omni,30.9,4,105,75,2230,14.5,78,US,314,DALLAS',\n",
       " 'Ford Fairmont,26.4,4,140,88,2870,18.1,80,US,359,DALLAS',\n",
       " 'Ford Gran Torino (sw),14,8,302,140,4638,16,74,US,184,NJ',\n",
       " 'Ford Pinto,23,4,140,83,2639,17,75,US,213,DALLAS',\n",
       " 'Ford Pinto Runabout,21,4,122,86,2226,16.5,72,US,106,NJ',\n",
       " 'Honda Civic 1300,35.1,4,81,60,1760,16.1,81,Japan,390,OH',\n",
       " 'Honda Civic CVCC,33,4,91,53,1795,17.5,75,Japan,226,NJ',\n",
       " 'Mercury Grand Marquis,16.5,8,351,138,3955,13.2,79,US,332,DALLAS',\n",
       " 'Mercury Marquis,11,8,429,208,4633,11,72,US,112,OH',\n",
       " 'Peugeot 304,30,4,79,70,2074,19.5,71,Europe,96,NJ',\n",
       " 'Plymouth Arrow GS,25.5,4,122,96,2300,15.5,77,US,75275,OH',\n",
       " \"Plymouth 'Cuda 340,14,8,340,160,3609,8,70,US,44,DALLAS\",\n",
       " 'Plymouth Duster,23,6,198,95,2904,16,73,US,146,NewYork',\n",
       " 'Plymouth Fury iii,14,8,318,150,4096,13,71,US,86,NewYork',\n",
       " 'Plymouth Horizon 4,34.7,4,105,63,2215,14.9,81,US,395,NJ',\n",
       " 'Plymouth Horizon Miser,38,4,105,63,2125,14.7,82,US,424,DALLAS',\n",
       " 'Plymouth Satellite Custom (sw),14,8,318,150,4077,14,72,US,120,NewYork',\n",
       " 'Plymouth Valiant,18,6,225,105,3121,16.5,73,US,142,DALLAS',\n",
       " 'Plymouth Valiant Custom,19,6,225,95,3264,16,75,US,197,OH',\n",
       " 'Saab 99LE,25,4,121,115,2671,13.5,75,Europe,225,DALLAS',\n",
       " 'Toyota Corolla,32.2,4,108,75,2265,15.2,80,Japan,366,OH',\n",
       " 'Toyota Mark II,20,6,156,122,2807,13.5,73,Japan,168,DALLAS',\n",
       " 'Volkswagen Super Beetle,26,4,97,46,1950,21,73,Europe,147,TEXAS',\n",
       " 'Volkswagen Type 3,23,4,97,54,2254,23.5,72,Europe,104,NewYork']"
      ]
     },
     "execution_count": 54,
     "metadata": {},
     "output_type": "execute_result"
    }
   ],
   "source": [
    "sample_rdd1.collect()"
   ]
  },
  {
   "attachments": {},
   "cell_type": "markdown",
   "metadata": {},
   "source": [
    "3. Create an RDD containing distinct elements from two 10 percent sample RDDs.   \n",
    "   Create an RDD containing distinct elements from the 20 percent sample RDD.   "
   ]
  },
  {
   "cell_type": "code",
   "execution_count": 55,
   "metadata": {},
   "outputs": [
    {
     "name": "stdout",
     "output_type": "stream",
     "text": [
      "['AMC Matador,14,8,304,150,3672,11.5,73,US,131,TEXAS', 'Chevrolet Chevelle Malibu Classic,17.5,8,305,140,4215,13,76,US,232,DALLAS', 'Chevrolet Impala,11,8,400,150,4997,14,73,US,148,OH', 'Datsun B-210,32,4,85,70,1990,17,76,Japan,249,NJ', 'Dodge Aspen,19.1,6,225,90,3381,18.7,80,US,361,OH', 'Ford Fairmont,26.4,4,140,88,2870,18.1,80,US,359,DALLAS', 'Ford Pinto,23,4,140,83,2639,17,75,US,213,DALLAS', 'Plymouth Duster,23,6,198,95,2904,16,73,US,146,NewYork', 'Plymouth Horizon Miser,38,4,105,63,2125,14.7,82,US,424,DALLAS', 'Volkswagen Super Beetle,26,4,97,46,1950,21,73,Europe,147,TEXAS', 'AMC Concord d/l,18.1,6,258,120,3410,15.1,78,US,4,NewYork', 'AMC Gremlin,20,6,232,100,2914,16,75,US,214,NJ', 'Audi 5000s (diesel),36.4,5,121,67,2950,19.9,80,Europe,372,NewYork', 'Buick Century Luxus (sw),13,8,350,150,4699,14.5,74,US,182,TEXAS', 'Buick Opel Isuzu Deluxe,30,4,111,80,2155,14.8,77,US,814,OH', 'Chrysler Cordoba,15.5,8,400,190,4325,12.2,77,US,7,NJ', 'Dodge Aspen,18.6,6,225,110,3620,18.7,78,US,305,TEXAS', 'Plymouth Champ,39,4,86,64,1875,16.4,81,US,389,NewYork', 'Volvo 244DL,22,4,121,98,2945,14.5,75,Europe,4,TEXAS', 'Chevrolet Impala,13,8,350,165,4274,12,72,US,107,TEXAS', 'Honda Civic 1300,35.1,4,81,60,1760,16.1,81,Japan,390,OH', 'Honda Civic CVCC,33,4,91,53,1795,17.5,75,Japan,226,NJ', 'Mercury Grand Marquis,16.5,8,351,138,3955,13.2,79,US,332,DALLAS', 'Mercury Marquis,11,8,429,208,4633,11,72,US,112,OH', \"Plymouth 'Cuda 340,14,8,340,160,3609,8,70,US,44,DALLAS\", 'Plymouth Fury iii,14,8,318,150,4096,13,71,US,86,NewYork', 'Plymouth Horizon 4,34.7,4,105,63,2215,14.9,81,US,395,NJ', 'Plymouth Valiant Custom,19,6,225,95,3264,16,75,US,197,OH', 'Saab 99LE,25,4,121,115,2671,13.5,75,Europe,225,DALLAS', 'Toyota Corolla,32.2,4,108,75,2265,15.2,80,Japan,366,OH', 'Volkswagen Type 3,23,4,97,54,2254,23.5,72,Europe,104,NewYork', 'Cadillac Eldorado,23,8,350,125,3900,17.4,79,US,343,TEXAS', 'Datsun 210,40.8,4,85,65,2110,19.2,80,Japan,369,DALLAS', 'Ford Country Squire (sw),15.5,8,351,142,4054,14.3,79,US,335,NewYork', 'Ford Maverick,18,6,250,88,3021,16.5,73,US,145,DALLAS', 'Ford Mustang II 2+2,25.5,4,140,89,2755,15.8,77,US,5,NJ', 'Mazda RX-7 GS,23.7,3,70,100,2420,12.5,80,Japan,379,NewYork', 'Mercury Zephyr 6,19.8,6,200,85,2990,18.2,79,US,326,OH', 'Oldsmobile Cutlass Ciera (diesel),38,6,262,85,3015,17,82,US,28,NJ', 'Oldsmobile Vista Cruiser,12,8,350,180,4499,12.5,73,US,151,NJ', 'Peugeot 504,27.2,4,141,71,3190,24.8,79,Europe,344,NewYork', 'Pontiac Catalina,16,8,400,170,4668,11.5,75,US,201,TEXAS', 'Volkswagen Dasher,25,4,90,71,2223,16.5,75,Europe,217,NewYork', 'Chevrolet Cavalier,28,4,112,88,2605,19.6,82,US,413,DALLAS', 'Ford Gran Torino (sw),14,8,302,140,4638,16,74,US,184,NJ', 'Plymouth Satellite Custom (sw),14,8,318,150,4077,14,72,US,120,NewYork', 'Plymouth Valiant,18,6,225,105,3121,16.5,73,US,142,DALLAS', 'Audi Fox,29,4,98,83,2219,16.5,74,Europe,186,NJ', 'Chevrolet Monte Carlo Landau,19.2,8,305,145,3425,13.2,78,US,307,DALLAS', 'Datsun 510,27.2,4,119,97,2300,14.7,78,Japan,313,DALLAS', 'Dodge Aries Wagon (sw),25.8,4,156,92,2620,14.4,81,US,385,DALLAS', 'Honda Civic (auto),32,4,91,67,1965,15.7,82,Japan,430,TEXAS', 'Oldsmobile Cutlass Salon Brougham,19.9,8,260,110,3365,15.5,78,US,294,TEXAS', 'Saab 99le,24,4,121,110,2660,14,73,Europe,167,NJ', 'Volkswagen Pickup,44,4,97,52,2130,24.6,82,Europe,96,NewYork', 'Volkswagen Rabbit C (Diesel),44.3,4,90,48,2085,21.7,80,Europe,370,NJ', 'AMC Ambassador SST,17,8,304,150,3672,11.5,72,US,4,DALLAS', 'Buick Skylark 320,15,8,350,165,3693,11.5,70,US,25,NJ', 'Chevrolet Chevelle Malibu Classic,16,6,250,100,3781,17,74,US,178,NJ', 'Chevrolete Chevelle Malibu,16,6,250,105,3897,18.5,75,US,206,NewYork', 'Dodge Omni,30.9,4,105,75,2230,14.5,78,US,314,DALLAS', 'Ford Pinto Runabout,21,4,122,86,2226,16.5,72,US,106,NJ', 'Peugeot 304,30,4,79,70,2074,19.5,71,Europe,96,NJ', 'Plymouth Arrow GS,25.5,4,122,96,2300,15.5,77,US,75275,OH', 'Toyota Mark II,20,6,156,122,2807,13.5,73,Japan,168,DALLAS', 'Buick Electra 225 Custom,12,8,455,225,4951,11,73,US,140,NewYork', 'Chevrolet Nova,15,6,250,100,3336,17,74,US,173,NewYork', 'Chrysler Newport Royal,13,8,400,190,4422,12.5,72,US,115,NJ', 'Datsun 1200,35,4,72,69,1613,18,71,Japan,99,TEXAS', 'Dodge Aspen SE,20,6,225,100,3651,17.7,76,US,244,NJ', 'Volkswagen Rabbit Custom,29,4,97,78,1940,14.5,77,Europe,278,DALLAS', 'Volvo 245,20,4,130,102,3150,15.7,76,Europe,7,OH']\n"
     ]
    }
   ],
   "source": [
    "# Create an RDD containing distinct elements from two 10 percent sample RDDs.\n",
    "union_s1_s2_rdd = sc.union([sample_rdd1, sample_rdd2])\n",
    "distinct_s1_s2_rdd=union_s1_s2_rdd.distinct()\n",
    "print(distinct_s1_s2_rdd.collect())"
   ]
  },
  {
   "attachments": {},
   "cell_type": "markdown",
   "metadata": {},
   "source": [
    " Create an RDD containing distinct elements from the 20 percent sample RDD.   "
   ]
  },
  {
   "cell_type": "code",
   "execution_count": 56,
   "metadata": {},
   "outputs": [
    {
     "name": "stdout",
     "output_type": "stream",
     "text": [
      "['AMC Hornet Sportabout (sw),18,6,258,110,2962,13.5,71,US,90,NJ', 'AMC Matador,14,8,304,150,3672,11.5,73,US,131,TEXAS', 'AMC Matador,15,6,258,110,3730,19,75,US,207,NJ', 'AMC Matador (sw),15,8,304,150,3892,12.5,72,US,117,TEXAS', 'BMW 320i,21.5,4,121,110,2600,12.8,77,Europe,287,TEXAS', 'Buick Century Limited,25,6,181,110,2945,16.4,82,US,432,DALLAS', 'Buick Century Special,20.6,6,231,105,3380,15.8,78,US,303,OH', 'Buick Opel Isuzu Deluxe,30,4,111,80,2155,14.8,77,US,814,OH', 'Buick Skylark,20.5,6,231,105,3425,16.9,77,US,271,DALLAS', 'Capri ii,25,4,140,92,2572,14.9,76,US,229,NewYork', 'Chevrolet Caprice Classic,13,8,400,150,4464,12,73,US,136,OH', 'Chevrolet Chevelle Malibu,17,6,250,100,3329,15.5,71,US,80,NewYork', 'Chevrolet Chevette,32.1,4,98,70,2120,15.5,80,US,356,NJ', 'Chevrolet Monte Carlo Landau,19.2,8,305,145,3425,13.2,78,US,307,DALLAS', 'Chrysler Lebaron Town @ Country (sw),18.5,8,360,150,3940,13,79,US,337,OH', 'Datsun B210,31,4,79,67,1950,19,74,Japan,174,NewYork', 'Datsun PL510,27,4,97,88,2130,14.5,71,Japan,73,NewYork', 'Dodge Aries Wagon (sw),25.8,4,156,92,2620,14.4,81,US,385,DALLAS', 'Dodge Aspen,18.6,6,225,110,3620,18.7,78,US,305,TEXAS', 'Dodge Challenger SE,15,8,383,170,3563,10,70,US,67,DALLAS', 'Fiat 124 TC,26,4,116,75,2246,14,74,Europe,193,NJ', 'Fiat 124B,30,4,88,76,2065,14.5,71,Europe,97,DALLAS', 'Fiat 131,28,4,107,86,2464,15.5,76,Europe,227,NewYork', 'Ford Galaxie 500,15,8,429,198,4341,10,70,US,8,OH', 'Ford Galaxie 500,14,8,351,153,4129,13,72,US,110,NJ', 'Ford Mustang,18,6,250,88,3139,14.5,71,US,93,NJ', 'Ford Mustang Cobra,23.6,4,140,0,2905,14.3,80,US,381,TEXAS', 'Ford Pinto,18,6,171,97,2984,14.5,75,US,155,TEXAS', 'Ford Thunderbird,16,8,351,149,4335,14.5,77,US,277,TEXAS', 'Honda Accord,36,4,107,75,2205,14.5,82,Japan,427,OH', 'Honda Civic 1500 gl,44.6,4,91,67,1850,13.8,80,Japan,374,NewYork', 'Mercury Capri 2000,23,4,122,86,2220,14,71,US,94,OH', 'Oldsmobile Cutlass Supreme,17,8,260,110,4060,19,77,US,752,NJ', 'Oldsmobile Starfire SX,23.8,4,151,85,2855,17.6,78,US,317,NewYork', 'Opel Manta,24,4,116,75,2158,15.5,73,Europe,163,OH', 'Plymouth Custom Suburb,13,8,360,170,4654,13,73,US,150,TEXAS', 'Plymouth Reliant,30,4,135,84,2385,12.9,81,US,387,NewYork', 'Plymouth Sapporo,23.2,4,156,105,2745,16.7,78,US,316,NJ', 'Plymouth Satellite,18,8,318,150,3436,11,70,US,100,DALLAS', 'Plymouth Valiant,18,6,225,105,3121,16.5,73,US,142,DALLAS', 'Plymouth Volare Custom,19,6,225,100,3630,17.7,77,US,75,NJ', 'Renault 12tl,27,4,101,83,2202,15.3,76,Europe,231,DALLAS', 'Renault 5 GTL,36,4,79,58,1825,18.6,77,Europe,263,NJ', 'Subaru,26,4,108,93,2391,15.5,74,Japan,195,TEXAS', 'Toyota Corolla,24,4,134,96,2702,13.5,75,Japan,216,NJ', 'Toyota Corolla 1600 (sw),27,4,97,88,2100,16.5,72,Japan,129,OH', 'Volkswagen Rabbit,29.5,4,97,71,1825,12.2,76,Europe,248,TEXAS', 'Volkswagen Rabbit C (Diesel),44.3,4,90,48,2085,21.7,80,Europe,370,NJ', 'Volkswagen Super Beetle,26,4,97,46,1950,21,73,Europe,147,TEXAS', 'AMC Matador,16,6,258,110,3632,18,74,US,179,NewYork', 'AMC Rebel SST,16,8,304,150,3433,12,70,US,4,DALLAS', 'Audi 4000,34.3,4,97,78,2188,15.8,80,Europe,362,TEXAS', 'Buick Regal Sport Coupe (turbo),17.7,6,231,165,3445,13.4,78,US,308,NewYork', 'Buick Skylark,26.6,4,151,84,2635,16.4,81,US,384,NewYork', 'Buick Skylark 320,15,8,350,165,3693,11.5,70,US,25,NJ', 'Chevrolet Citation,23.5,6,173,110,2725,12.6,81,US,386,OH', 'Chevrolet Concours,17.5,6,250,110,3520,16.4,77,US,7,NewYork', 'Chevrolet Impala,14,8,350,165,4209,12,71,US,83,DALLAS', 'Chevrolet Monte Carlo,15,8,400,150,3761,9.5,70,US,56,NewYork', 'Chevrolete Chevelle Malibu,16,6,250,105,3897,18.5,75,US,206,NewYork', 'Citroen DS-21 Pallas,0,4,133,115,3090,17.5,70,Europe,58,DALLAS', 'Datsun 210 MPG,37,4,85,65,1975,19.4,81,Japan,392,TEXAS', 'Datsun 810 Maxima,24.2,6,146,120,2930,13.8,81,Japan,408,OH', 'Datsun F-10 Hatchback,33.5,4,85,70,1945,16.8,77,Japan,265,TEXAS', 'Dodge Aspen 6,20.6,6,225,110,3360,16.6,79,US,329,NewYork', 'Dodge Colt Hatchback Custom,35.7,4,98,80,1915,14.4,79,US,340,NewYork', 'Dodge Coronet Brougham,16,8,318,150,4190,13,76,US,233,DALLAS', 'Fiat 128,29,4,68,49,1867,19.5,73,Europe,162,TEXAS', 'Ford Gran Torino,14.5,8,351,152,4215,12.8,76,US,235,OH', 'Ford Grenada gl,20.2,6,200,88,3060,17.1,81,US,411,NJ', 'Ford Maverick,18,6,250,88,3021,16.5,73,US,145,DALLAS', 'Ford Maverick,15,6,250,72,3158,19.5,75,US,200,OH', 'Ford Mustang II 2+2,25.5,4,140,89,2755,15.8,77,US,5,NJ', 'Ford Pinto,19,4,122,85,2310,18.5,73,US,157,NewYork', 'Mercury Grand Marquis,16.5,8,351,138,3955,13.2,79,US,332,DALLAS', 'Oldsmobile Cutlass Salon Brougham,23.9,8,260,90,3420,22.2,79,US,345,NewYork', 'Oldsmobile Omega Brougham,26.8,6,173,115,2700,12.9,79,US,352,OH', 'Peugeot 504 (sw),21,4,120,87,2979,19.5,72,Europe,123,NJ', 'Plymouth Fury Gran Sedan,14,8,318,150,4237,14.5,73,US,138,TEXAS', 'Plymouth Fury iii,14,8,440,215,4312,8.5,70,US,53,OH', 'Plymouth Fury iii,14,8,318,150,4096,13,71,US,86,NewYork', 'Plymouth Horizon 4,34.7,4,105,63,2215,14.9,81,US,395,NJ', 'Plymouth Satellite Custom,16,6,225,105,3439,15.5,71,US,79,OH', 'Plymouth Volare,20.5,6,225,100,3430,17.2,78,US,301,NewYork', 'Pontiac Phoenix,27,4,151,90,2735,18,82,US,418,NJ', 'Toyota Corolla,28,4,97,75,2155,16.4,76,Japan,7,DALLAS', 'Toyota Corolla,32.4,4,108,75,2350,16.8,81,Japan,401,NewYork', 'Toyota Corolla Mark ii,24,4,113,95,2372,15,70,Japan,58,TEXAS', 'Toyota Mark II,20,6,156,122,2807,13.5,73,Japan,168,DALLAS', 'Toyota Mark II,19,6,156,108,2930,15.5,76,Japan,757,TEXAS', 'Volkswagen Jetta,33,4,105,74,2190,14.2,81,Europe,398,TEXAS', 'Volkswagen Scirocco,31.5,4,89,71,1990,14.9,78,Europe,323,DALLAS']\n"
     ]
    }
   ],
   "source": [
    "#Create an RDD containing distinct elements from the 20 percent sample RDD.\n",
    "distinct_20p_rdd=sample_rdd3.distinct()\n",
    "print(distinct_20p_rdd.collect())"
   ]
  },
  {
   "attachments": {},
   "cell_type": "markdown",
   "metadata": {},
   "source": [
    "4. Calculate how many elements are in both of the previous two RDDs from step 3. You CANNOT use     \n",
    "any action    operations, except for each and collect."
   ]
  },
  {
   "cell_type": "code",
   "execution_count": 57,
   "metadata": {},
   "outputs": [],
   "source": [
    "#elemement count\n",
    "len(distinct_s1_s2_rdd.collect())\n",
    "def f(x):print(x)\n",
    "distinct_s1_s2_rdd.foreach(f)"
   ]
  },
  {
   "cell_type": "code",
   "execution_count": 58,
   "metadata": {},
   "outputs": [
    {
     "data": {
      "text/plain": [
       "['AMC Matador,14,8,304,150,3672,11.5,73,US,131,TEXAS',\n",
       " 'Chevrolet Chevelle Malibu Classic,17.5,8,305,140,4215,13,76,US,232,DALLAS',\n",
       " 'Chevrolet Impala,11,8,400,150,4997,14,73,US,148,OH',\n",
       " 'Datsun B-210,32,4,85,70,1990,17,76,Japan,249,NJ',\n",
       " 'Dodge Aspen,19.1,6,225,90,3381,18.7,80,US,361,OH',\n",
       " 'Ford Fairmont,26.4,4,140,88,2870,18.1,80,US,359,DALLAS',\n",
       " 'Ford Pinto,23,4,140,83,2639,17,75,US,213,DALLAS',\n",
       " 'Plymouth Duster,23,6,198,95,2904,16,73,US,146,NewYork',\n",
       " 'Plymouth Horizon Miser,38,4,105,63,2125,14.7,82,US,424,DALLAS',\n",
       " 'Volkswagen Super Beetle,26,4,97,46,1950,21,73,Europe,147,TEXAS',\n",
       " 'AMC Concord d/l,18.1,6,258,120,3410,15.1,78,US,4,NewYork',\n",
       " 'AMC Gremlin,20,6,232,100,2914,16,75,US,214,NJ',\n",
       " 'Audi 5000s (diesel),36.4,5,121,67,2950,19.9,80,Europe,372,NewYork',\n",
       " 'Buick Century Luxus (sw),13,8,350,150,4699,14.5,74,US,182,TEXAS',\n",
       " 'Buick Opel Isuzu Deluxe,30,4,111,80,2155,14.8,77,US,814,OH',\n",
       " 'Chrysler Cordoba,15.5,8,400,190,4325,12.2,77,US,7,NJ',\n",
       " 'Dodge Aspen,18.6,6,225,110,3620,18.7,78,US,305,TEXAS',\n",
       " 'Plymouth Champ,39,4,86,64,1875,16.4,81,US,389,NewYork',\n",
       " 'Volvo 244DL,22,4,121,98,2945,14.5,75,Europe,4,TEXAS',\n",
       " 'Chevrolet Impala,13,8,350,165,4274,12,72,US,107,TEXAS',\n",
       " 'Honda Civic 1300,35.1,4,81,60,1760,16.1,81,Japan,390,OH',\n",
       " 'Honda Civic CVCC,33,4,91,53,1795,17.5,75,Japan,226,NJ',\n",
       " 'Mercury Grand Marquis,16.5,8,351,138,3955,13.2,79,US,332,DALLAS',\n",
       " 'Mercury Marquis,11,8,429,208,4633,11,72,US,112,OH',\n",
       " \"Plymouth 'Cuda 340,14,8,340,160,3609,8,70,US,44,DALLAS\",\n",
       " 'Plymouth Fury iii,14,8,318,150,4096,13,71,US,86,NewYork',\n",
       " 'Plymouth Horizon 4,34.7,4,105,63,2215,14.9,81,US,395,NJ',\n",
       " 'Plymouth Valiant Custom,19,6,225,95,3264,16,75,US,197,OH',\n",
       " 'Saab 99LE,25,4,121,115,2671,13.5,75,Europe,225,DALLAS',\n",
       " 'Toyota Corolla,32.2,4,108,75,2265,15.2,80,Japan,366,OH',\n",
       " 'Volkswagen Type 3,23,4,97,54,2254,23.5,72,Europe,104,NewYork',\n",
       " 'Cadillac Eldorado,23,8,350,125,3900,17.4,79,US,343,TEXAS',\n",
       " 'Datsun 210,40.8,4,85,65,2110,19.2,80,Japan,369,DALLAS',\n",
       " 'Ford Country Squire (sw),15.5,8,351,142,4054,14.3,79,US,335,NewYork',\n",
       " 'Ford Maverick,18,6,250,88,3021,16.5,73,US,145,DALLAS',\n",
       " 'Ford Mustang II 2+2,25.5,4,140,89,2755,15.8,77,US,5,NJ',\n",
       " 'Mazda RX-7 GS,23.7,3,70,100,2420,12.5,80,Japan,379,NewYork',\n",
       " 'Mercury Zephyr 6,19.8,6,200,85,2990,18.2,79,US,326,OH',\n",
       " 'Oldsmobile Cutlass Ciera (diesel),38,6,262,85,3015,17,82,US,28,NJ',\n",
       " 'Oldsmobile Vista Cruiser,12,8,350,180,4499,12.5,73,US,151,NJ',\n",
       " 'Peugeot 504,27.2,4,141,71,3190,24.8,79,Europe,344,NewYork',\n",
       " 'Pontiac Catalina,16,8,400,170,4668,11.5,75,US,201,TEXAS',\n",
       " 'Volkswagen Dasher,25,4,90,71,2223,16.5,75,Europe,217,NewYork',\n",
       " 'Chevrolet Cavalier,28,4,112,88,2605,19.6,82,US,413,DALLAS',\n",
       " 'Ford Gran Torino (sw),14,8,302,140,4638,16,74,US,184,NJ',\n",
       " 'Plymouth Satellite Custom (sw),14,8,318,150,4077,14,72,US,120,NewYork',\n",
       " 'Plymouth Valiant,18,6,225,105,3121,16.5,73,US,142,DALLAS',\n",
       " 'Audi Fox,29,4,98,83,2219,16.5,74,Europe,186,NJ',\n",
       " 'Chevrolet Monte Carlo Landau,19.2,8,305,145,3425,13.2,78,US,307,DALLAS',\n",
       " 'Datsun 510,27.2,4,119,97,2300,14.7,78,Japan,313,DALLAS',\n",
       " 'Dodge Aries Wagon (sw),25.8,4,156,92,2620,14.4,81,US,385,DALLAS',\n",
       " 'Honda Civic (auto),32,4,91,67,1965,15.7,82,Japan,430,TEXAS',\n",
       " 'Oldsmobile Cutlass Salon Brougham,19.9,8,260,110,3365,15.5,78,US,294,TEXAS',\n",
       " 'Saab 99le,24,4,121,110,2660,14,73,Europe,167,NJ',\n",
       " 'Volkswagen Pickup,44,4,97,52,2130,24.6,82,Europe,96,NewYork',\n",
       " 'Volkswagen Rabbit C (Diesel),44.3,4,90,48,2085,21.7,80,Europe,370,NJ',\n",
       " 'AMC Ambassador SST,17,8,304,150,3672,11.5,72,US,4,DALLAS',\n",
       " 'Buick Skylark 320,15,8,350,165,3693,11.5,70,US,25,NJ',\n",
       " 'Chevrolet Chevelle Malibu Classic,16,6,250,100,3781,17,74,US,178,NJ',\n",
       " 'Chevrolete Chevelle Malibu,16,6,250,105,3897,18.5,75,US,206,NewYork',\n",
       " 'Dodge Omni,30.9,4,105,75,2230,14.5,78,US,314,DALLAS',\n",
       " 'Ford Pinto Runabout,21,4,122,86,2226,16.5,72,US,106,NJ',\n",
       " 'Peugeot 304,30,4,79,70,2074,19.5,71,Europe,96,NJ',\n",
       " 'Plymouth Arrow GS,25.5,4,122,96,2300,15.5,77,US,75275,OH',\n",
       " 'Toyota Mark II,20,6,156,122,2807,13.5,73,Japan,168,DALLAS',\n",
       " 'Buick Electra 225 Custom,12,8,455,225,4951,11,73,US,140,NewYork',\n",
       " 'Chevrolet Nova,15,6,250,100,3336,17,74,US,173,NewYork',\n",
       " 'Chrysler Newport Royal,13,8,400,190,4422,12.5,72,US,115,NJ',\n",
       " 'Datsun 1200,35,4,72,69,1613,18,71,Japan,99,TEXAS',\n",
       " 'Dodge Aspen SE,20,6,225,100,3651,17.7,76,US,244,NJ',\n",
       " 'Volkswagen Rabbit Custom,29,4,97,78,1940,14.5,77,Europe,278,DALLAS',\n",
       " 'Volvo 245,20,4,130,102,3150,15.7,76,Europe,7,OH']"
      ]
     },
     "execution_count": 58,
     "metadata": {},
     "output_type": "execute_result"
    }
   ],
   "source": [
    "distinct_s1_s2_rdd.collect()"
   ]
  },
  {
   "cell_type": "code",
   "execution_count": 71,
   "metadata": {},
   "outputs": [
    {
     "data": {
      "text/plain": [
       "72"
      ]
     },
     "execution_count": 71,
     "metadata": {},
     "output_type": "execute_result"
    }
   ],
   "source": [
    "#count number of elememt in rdd without using action \n",
    "len(distinct_s1_s2_rdd.collect())"
   ]
  },
  {
   "cell_type": "code",
   "execution_count": 60,
   "metadata": {},
   "outputs": [
    {
     "name": "stdout",
     "output_type": "stream",
     "text": [
      "72\n"
     ]
    }
   ],
   "source": [
    "#count number of elememt in rdd without using action \n",
    "element_count_10p_rdd=distinct_s1_s2_rdd.map(lambda x:1).reduce(lambda a,b:a+b)\n",
    "print(element_count_10p_rdd)"
   ]
  },
  {
   "cell_type": "code",
   "execution_count": 61,
   "metadata": {},
   "outputs": [
    {
     "data": {
      "text/plain": [
       "72"
      ]
     },
     "execution_count": 61,
     "metadata": {},
     "output_type": "execute_result"
    }
   ],
   "source": [
    "#lest check previous output with count method\n",
    "distinct_s1_s2_rdd.count()"
   ]
  },
  {
   "cell_type": "code",
   "execution_count": 72,
   "metadata": {},
   "outputs": [
    {
     "data": {
      "text/plain": [
       "92"
      ]
     },
     "execution_count": 72,
     "metadata": {},
     "output_type": "execute_result"
    }
   ],
   "source": [
    "#element count from 20% distinct sample rdd\n",
    "len(distinct_20p_rdd.collect())"
   ]
  },
  {
   "cell_type": "code",
   "execution_count": 62,
   "metadata": {},
   "outputs": [
    {
     "name": "stdout",
     "output_type": "stream",
     "text": [
      "92\n"
     ]
    }
   ],
   "source": [
    "#element count from 20% distinct sample rdd\n",
    "element_count_20p_rdd=distinct_20p_rdd.map(lambda x:1).reduce(lambda a,b:a+b)\n",
    "print(element_count_20p_rdd)"
   ]
  },
  {
   "cell_type": "code",
   "execution_count": 63,
   "metadata": {},
   "outputs": [
    {
     "data": {
      "text/plain": [
       "92"
      ]
     },
     "execution_count": 63,
     "metadata": {},
     "output_type": "execute_result"
    }
   ],
   "source": [
    "#lest check previous output with count method\n",
    "distinct_20p_rdd.count()"
   ]
  },
  {
   "attachments": {},
   "cell_type": "markdown",
   "metadata": {},
   "source": [
    "=====Hands-On Exercise===   \n",
    "We will use the same dataset from the previous Exercises (Dataset about cars)."
   ]
  },
  {
   "attachments": {},
   "cell_type": "markdown",
   "metadata": {},
   "source": [
    "1. Create an RDD using this dataset. (Make sure to exclude the first two rows.)   "
   ]
  },
  {
   "cell_type": "code",
   "execution_count": 64,
   "metadata": {},
   "outputs": [],
   "source": [
    "cars_rdd= sc.textFile(\"spark_files/cars.csv\").zipWithIndex().filter(lambda x: x[1]>1).map(lambda x:x[0])  #RDD using cars.csv dataset (excluding first two rows)"
   ]
  },
  {
   "cell_type": "code",
   "execution_count": 65,
   "metadata": {},
   "outputs": [
    {
     "data": {
      "text/plain": [
       "['AMC Ambassador DPL,15,8,390,190,3850,8.5,70,US,2,NJ',\n",
       " 'AMC Ambassador SST,17,8,304,150,3672,11.5,72,US,4,DALLAS',\n",
       " 'AMC Concord,19.4,6,232,90,3210,17.2,78,US,52,TEXAS',\n",
       " 'AMC Concord,24.3,4,151,90,3003,20.1,80,US,42,OH',\n",
       " 'AMC Concord d/l,18.1,6,258,120,3410,15.1,78,US,4,NewYork']"
      ]
     },
     "execution_count": 65,
     "metadata": {},
     "output_type": "execute_result"
    }
   ],
   "source": [
    "cars_rdd.take(5) "
   ]
  },
  {
   "attachments": {},
   "cell_type": "markdown",
   "metadata": {},
   "source": [
    "2. Calculate the following about the cars:   \n",
    "a. Total Weight.   \n",
    "b. Average MPG.   \n",
    "c. How many cars we have for each Origin.  "
   ]
  },
  {
   "cell_type": "code",
   "execution_count": 66,
   "metadata": {},
   "outputs": [
    {
     "name": "stdout",
     "output_type": "stream",
     "text": [
      "1205821\n"
     ]
    }
   ],
   "source": [
    "# a. Total Weight.\n",
    "tot_weight=cars_rdd.map(lambda x:int(x.split(\",\")[5])).reduce(lambda x,y:x+y)\n",
    "print(tot_weight)"
   ]
  },
  {
   "cell_type": "code",
   "execution_count": 67,
   "metadata": {},
   "outputs": [
    {
     "name": "stdout",
     "output_type": "stream",
     "text": [
      "23.076049382716047\n"
     ]
    }
   ],
   "source": [
    "# b. Average MPG.\n",
    "lenghth=cars_rdd.map(lambda x: 1).reduce(lambda a,b:a+b)\n",
    "mpg=cars_rdd.map(lambda x: float(x.split(',')[1])).reduce(lambda a,b: a+b)\n",
    "avg_mpg=mpg/lenghth\n",
    "print(avg_mpg)"
   ]
  },
  {
   "cell_type": "code",
   "execution_count": 68,
   "metadata": {},
   "outputs": [
    {
     "name": "stdout",
     "output_type": "stream",
     "text": [
      "defaultdict(<class 'int'>, {'US': 253, 'Europe': 73, 'Japan': 79})\n"
     ]
    }
   ],
   "source": [
    "# c. How many cars we have for each Origin.\n",
    "dict_origin=cars_rdd.map(lambda x:x.split(\",\")[8]).countByValue()\n",
    "print(dict_origin)"
   ]
  },
  {
   "cell_type": "code",
   "execution_count": 69,
   "metadata": {},
   "outputs": [
    {
     "data": {
      "text/plain": [
       "[('Europe', 73), ('Japan', 79), ('US', 253)]"
      ]
     },
     "execution_count": 69,
     "metadata": {},
     "output_type": "execute_result"
    }
   ],
   "source": [
    "dict_or=cars_rdd.groupBy(lambda x:x.split(',')[8]).collect()\n",
    "res=[(x[0],len(x[1])) for x in sorted([(x,sorted(y)) for (x,y) in dict_or])]\n",
    "res"
   ]
  },
  {
   "cell_type": "code",
   "execution_count": 70,
   "metadata": {},
   "outputs": [
    {
     "data": {
      "text/plain": [
       "[('US', 253), ('Europe', 73), ('Japan', 79)]"
      ]
     },
     "execution_count": 70,
     "metadata": {},
     "output_type": "execute_result"
    }
   ],
   "source": [
    "cars_rdd.groupBy(lambda x:x.split(',')[8]).mapValues(len).collect()"
   ]
  }
 ],
 "metadata": {
  "kernelspec": {
   "display_name": "Python 3",
   "language": "python",
   "name": "python3"
  },
  "language_info": {
   "codemirror_mode": {
    "name": "ipython",
    "version": 3
   },
   "file_extension": ".py",
   "mimetype": "text/x-python",
   "name": "python",
   "nbconvert_exporter": "python",
   "pygments_lexer": "ipython3",
   "version": "3.10.10"
  },
  "orig_nbformat": 4,
  "vscode": {
   "interpreter": {
    "hash": "81670ad8e0995f2fc822a82a83fa48c446caeae6dd5f3df703a08b177af58590"
   }
  }
 },
 "nbformat": 4,
 "nbformat_minor": 2
}
