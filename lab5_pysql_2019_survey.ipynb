{
 "cells": [
  {
   "attachments": {},
   "cell_type": "markdown",
   "metadata": {},
   "source": [
    "# Challenge Exercise"
   ]
  },
  {
   "attachments": {},
   "cell_type": "markdown",
   "metadata": {},
   "source": [
    "<!-- Challenge Exercise -->\n",
    "### Using Spark SQL, create DataFrames, which filter for the following:"
   ]
  },
  {
   "cell_type": "code",
   "execution_count": 2,
   "metadata": {},
   "outputs": [],
   "source": [
    "import findspark\n",
    "findspark.init()\n",
    "\n",
    "from pyspark.sql import SparkSession\n",
    "from pyspark.sql.functions import*\n",
    "\n",
    "from pyspark.sql.types import StructType, StructField, StringType, IntegerType, BooleanType, DoubleType\n",
    "\n",
    "import pandas as pd"
   ]
  },
  {
   "attachments": {},
   "cell_type": "markdown",
   "metadata": {},
   "source": [
    "Start the Sesssion"
   ]
  },
  {
   "cell_type": "code",
   "execution_count": 3,
   "metadata": {},
   "outputs": [],
   "source": [
    "spark = SparkSession.builder.master(\"local[*]\").appName(\"Sql 2019 Survey\").getOrCreate()"
   ]
  },
  {
   "cell_type": "code",
   "execution_count": 5,
   "metadata": {},
   "outputs": [],
   "source": [
    "df_2019_survey = spark.read.load(\"spark_files/survey_results_public.csv\", format=\"csv\", header=True, inferSchema = True)"
   ]
  },
  {
   "attachments": {},
   "cell_type": "markdown",
   "metadata": {},
   "source": [
    "Print Schema"
   ]
  },
  {
   "cell_type": "code",
   "execution_count": 6,
   "metadata": {},
   "outputs": [
    {
     "name": "stdout",
     "output_type": "stream",
     "text": [
      "root\n",
      " |-- Respondent: integer (nullable = true)\n",
      " |-- MainBranch: string (nullable = true)\n",
      " |-- Hobbyist: string (nullable = true)\n",
      " |-- OpenSourcer: string (nullable = true)\n",
      " |-- OpenSource: string (nullable = true)\n",
      " |-- Employment: string (nullable = true)\n",
      " |-- Country: string (nullable = true)\n",
      " |-- Student: string (nullable = true)\n",
      " |-- EdLevel: string (nullable = true)\n",
      " |-- UndergradMajor: string (nullable = true)\n",
      " |-- EduOther: string (nullable = true)\n",
      " |-- OrgSize: string (nullable = true)\n",
      " |-- DevType: string (nullable = true)\n",
      " |-- YearsCode: string (nullable = true)\n",
      " |-- Age1stCode: string (nullable = true)\n",
      " |-- YearsCodePro: string (nullable = true)\n",
      " |-- CareerSat: string (nullable = true)\n",
      " |-- JobSat: string (nullable = true)\n",
      " |-- MgrIdiot: string (nullable = true)\n",
      " |-- MgrMoney: string (nullable = true)\n",
      " |-- MgrWant: string (nullable = true)\n",
      " |-- JobSeek: string (nullable = true)\n",
      " |-- LastHireDate: string (nullable = true)\n",
      " |-- LastInt: string (nullable = true)\n",
      " |-- FizzBuzz: string (nullable = true)\n",
      " |-- JobFactors: string (nullable = true)\n",
      " |-- ResumeUpdate: string (nullable = true)\n",
      " |-- CurrencySymbol: string (nullable = true)\n",
      " |-- CurrencyDesc: string (nullable = true)\n",
      " |-- CompTotal: string (nullable = true)\n",
      " |-- CompFreq: string (nullable = true)\n",
      " |-- ConvertedComp: string (nullable = true)\n",
      " |-- WorkWeekHrs: string (nullable = true)\n",
      " |-- WorkPlan: string (nullable = true)\n",
      " |-- WorkChallenge: string (nullable = true)\n",
      " |-- WorkRemote: string (nullable = true)\n",
      " |-- WorkLoc: string (nullable = true)\n",
      " |-- ImpSyn: string (nullable = true)\n",
      " |-- CodeRev: string (nullable = true)\n",
      " |-- CodeRevHrs: string (nullable = true)\n",
      " |-- UnitTests: string (nullable = true)\n",
      " |-- PurchaseHow: string (nullable = true)\n",
      " |-- PurchaseWhat: string (nullable = true)\n",
      " |-- LanguageWorkedWith: string (nullable = true)\n",
      " |-- LanguageDesireNextYear: string (nullable = true)\n",
      " |-- DatabaseWorkedWith: string (nullable = true)\n",
      " |-- DatabaseDesireNextYear: string (nullable = true)\n",
      " |-- PlatformWorkedWith: string (nullable = true)\n",
      " |-- PlatformDesireNextYear: string (nullable = true)\n",
      " |-- WebFrameWorkedWith: string (nullable = true)\n",
      " |-- WebFrameDesireNextYear: string (nullable = true)\n",
      " |-- MiscTechWorkedWith: string (nullable = true)\n",
      " |-- MiscTechDesireNextYear: string (nullable = true)\n",
      " |-- DevEnviron: string (nullable = true)\n",
      " |-- OpSys: string (nullable = true)\n",
      " |-- Containers: string (nullable = true)\n",
      " |-- BlockchainOrg: string (nullable = true)\n",
      " |-- BlockchainIs: string (nullable = true)\n",
      " |-- BetterLife: string (nullable = true)\n",
      " |-- ITperson: string (nullable = true)\n",
      " |-- OffOn: string (nullable = true)\n",
      " |-- SocialMedia: string (nullable = true)\n",
      " |-- Extraversion: string (nullable = true)\n",
      " |-- ScreenName: string (nullable = true)\n",
      " |-- SOVisit1st: string (nullable = true)\n",
      " |-- SOVisitFreq: string (nullable = true)\n",
      " |-- SOVisitTo: string (nullable = true)\n",
      " |-- SOFindAnswer: string (nullable = true)\n",
      " |-- SOTimeSaved: string (nullable = true)\n",
      " |-- SOHowMuchTime: string (nullable = true)\n",
      " |-- SOAccount: string (nullable = true)\n",
      " |-- SOPartFreq: string (nullable = true)\n",
      " |-- SOJobs: string (nullable = true)\n",
      " |-- EntTeams: string (nullable = true)\n",
      " |-- SOComm: string (nullable = true)\n",
      " |-- WelcomeChange: string (nullable = true)\n",
      " |-- SONewContent: string (nullable = true)\n",
      " |-- Age: string (nullable = true)\n",
      " |-- Gender: string (nullable = true)\n",
      " |-- Trans: string (nullable = true)\n",
      " |-- Sexuality: string (nullable = true)\n",
      " |-- Ethnicity: string (nullable = true)\n",
      " |-- Dependents: string (nullable = true)\n",
      " |-- SurveyLength: string (nullable = true)\n",
      " |-- SurveyEase: string (nullable = true)\n",
      "\n"
     ]
    }
   ],
   "source": [
    "df_2019_survey.printSchema()"
   ]
  },
  {
   "cell_type": "code",
   "execution_count": 8,
   "metadata": {},
   "outputs": [
    {
     "data": {
      "text/plain": [
       "85"
      ]
     },
     "execution_count": 8,
     "metadata": {},
     "output_type": "execute_result"
    }
   ],
   "source": [
    "len(df_2019_survey.columns)"
   ]
  },
  {
   "cell_type": "code",
   "execution_count": 10,
   "metadata": {},
   "outputs": [
    {
     "data": {
      "text/plain": [
       "Row(Respondent=1, MainBranch='I am a student who is learning to code', Hobbyist='Yes', OpenSourcer='Never', OpenSource='The quality of OSS and closed source software is about the same', Employment='Not employed, and not looking for work', Country='United Kingdom', Student='No', EdLevel='Primary/elementary school', UndergradMajor='NA', EduOther='Taught yourself a new language, framework, or tool without taking a formal course', OrgSize='NA', DevType='NA', YearsCode='4', Age1stCode='10', YearsCodePro='NA', CareerSat='NA', JobSat='NA', MgrIdiot='NA', MgrMoney='NA', MgrWant='NA', JobSeek='NA', LastHireDate='NA', LastInt='NA', FizzBuzz='NA', JobFactors='NA', ResumeUpdate='NA', CurrencySymbol='NA', CurrencyDesc='NA', CompTotal='NA', CompFreq='NA', ConvertedComp='NA', WorkWeekHrs='NA', WorkPlan='NA', WorkChallenge='NA', WorkRemote='NA', WorkLoc='NA', ImpSyn='NA', CodeRev='NA', CodeRevHrs='NA', UnitTests='NA', PurchaseHow='NA', PurchaseWhat='NA', LanguageWorkedWith='HTML/CSS;Java;JavaScript;Python', LanguageDesireNextYear='C;C++;C#;Go;HTML/CSS;Java;JavaScript;Python;SQL', DatabaseWorkedWith='SQLite', DatabaseDesireNextYear='MySQL', PlatformWorkedWith='MacOS;Windows', PlatformDesireNextYear='Android;Arduino;Windows', WebFrameWorkedWith='Django;Flask', WebFrameDesireNextYear='Flask;jQuery', MiscTechWorkedWith='Node.js', MiscTechDesireNextYear='Node.js', DevEnviron='IntelliJ;Notepad++;PyCharm', OpSys='Windows', Containers='I do not use containers', BlockchainOrg='NA', BlockchainIs='NA', BetterLife='Yes', ITperson='Fortunately, someone else has that title', OffOn='Yes', SocialMedia='Twitter', Extraversion='Online', ScreenName='Username', SOVisit1st='2017', SOVisitFreq='A few times per month or weekly', SOVisitTo='Find answers to specific questions;Learn how to do things I didn’t necessarily look for', SOFindAnswer='3-5 times per week', SOTimeSaved='Stack Overflow was much faster', SOHowMuchTime='31-60 minutes', SOAccount='No', SOPartFreq='NA', SOJobs=\"No, I didn't know that Stack Overflow had a job board\", EntTeams=\"No, and I don't know what those are\", SOComm='Neutral', WelcomeChange='Just as welcome now as I felt last year', SONewContent=\"Tech articles written by other developers;Industry news about technologies you're interested in;Courses on technologies you're interested in\", Age='14', Gender='Man', Trans='No', Sexuality='Straight / Heterosexual', Ethnicity='NA', Dependents='No', SurveyLength='Appropriate in length', SurveyEase='Neither easy nor difficult')"
      ]
     },
     "execution_count": 10,
     "metadata": {},
     "output_type": "execute_result"
    }
   ],
   "source": [
    "df_2019_survey.first()"
   ]
  },
  {
   "attachments": {},
   "cell_type": "markdown",
   "metadata": {},
   "source": [
    "#### 1. Average age by gender."
   ]
  },
  {
   "cell_type": "code",
   "execution_count": 39,
   "metadata": {},
   "outputs": [],
   "source": [
    "df_2019_survey=df_2019_survey.withColumn(\"Age\", df_2019_survey.Age.cast(IntegerType()))\n"
   ]
  },
  {
   "cell_type": "code",
   "execution_count": 41,
   "metadata": {},
   "outputs": [
    {
     "name": "stdout",
     "output_type": "stream",
     "text": [
      "root\n",
      " |-- Respondent: integer (nullable = true)\n",
      " |-- MainBranch: string (nullable = true)\n",
      " |-- Hobbyist: string (nullable = true)\n",
      " |-- OpenSourcer: string (nullable = true)\n",
      " |-- OpenSource: string (nullable = true)\n",
      " |-- Employment: string (nullable = true)\n",
      " |-- Country: string (nullable = true)\n",
      " |-- Student: string (nullable = true)\n",
      " |-- EdLevel: string (nullable = true)\n",
      " |-- UndergradMajor: string (nullable = true)\n",
      " |-- EduOther: string (nullable = true)\n",
      " |-- OrgSize: string (nullable = true)\n",
      " |-- DevType: string (nullable = true)\n",
      " |-- YearsCode: string (nullable = true)\n",
      " |-- Age1stCode: string (nullable = true)\n",
      " |-- YearsCodePro: string (nullable = true)\n",
      " |-- CareerSat: string (nullable = true)\n",
      " |-- JobSat: string (nullable = true)\n",
      " |-- MgrIdiot: string (nullable = true)\n",
      " |-- MgrMoney: string (nullable = true)\n",
      " |-- MgrWant: string (nullable = true)\n",
      " |-- JobSeek: string (nullable = true)\n",
      " |-- LastHireDate: string (nullable = true)\n",
      " |-- LastInt: string (nullable = true)\n",
      " |-- FizzBuzz: string (nullable = true)\n",
      " |-- JobFactors: string (nullable = true)\n",
      " |-- ResumeUpdate: string (nullable = true)\n",
      " |-- CurrencySymbol: string (nullable = true)\n",
      " |-- CurrencyDesc: string (nullable = true)\n",
      " |-- CompTotal: string (nullable = true)\n",
      " |-- CompFreq: string (nullable = true)\n",
      " |-- ConvertedComp: string (nullable = true)\n",
      " |-- WorkWeekHrs: string (nullable = true)\n",
      " |-- WorkPlan: string (nullable = true)\n",
      " |-- WorkChallenge: string (nullable = true)\n",
      " |-- WorkRemote: string (nullable = true)\n",
      " |-- WorkLoc: string (nullable = true)\n",
      " |-- ImpSyn: string (nullable = true)\n",
      " |-- CodeRev: string (nullable = true)\n",
      " |-- CodeRevHrs: string (nullable = true)\n",
      " |-- UnitTests: string (nullable = true)\n",
      " |-- PurchaseHow: string (nullable = true)\n",
      " |-- PurchaseWhat: string (nullable = true)\n",
      " |-- LanguageWorkedWith: string (nullable = true)\n",
      " |-- LanguageDesireNextYear: string (nullable = true)\n",
      " |-- DatabaseWorkedWith: string (nullable = true)\n",
      " |-- DatabaseDesireNextYear: string (nullable = true)\n",
      " |-- PlatformWorkedWith: string (nullable = true)\n",
      " |-- PlatformDesireNextYear: string (nullable = true)\n",
      " |-- WebFrameWorkedWith: string (nullable = true)\n",
      " |-- WebFrameDesireNextYear: string (nullable = true)\n",
      " |-- MiscTechWorkedWith: string (nullable = true)\n",
      " |-- MiscTechDesireNextYear: string (nullable = true)\n",
      " |-- DevEnviron: string (nullable = true)\n",
      " |-- OpSys: string (nullable = true)\n",
      " |-- Containers: string (nullable = true)\n",
      " |-- BlockchainOrg: string (nullable = true)\n",
      " |-- BlockchainIs: string (nullable = true)\n",
      " |-- BetterLife: string (nullable = true)\n",
      " |-- ITperson: string (nullable = true)\n",
      " |-- OffOn: string (nullable = true)\n",
      " |-- SocialMedia: string (nullable = true)\n",
      " |-- Extraversion: string (nullable = true)\n",
      " |-- ScreenName: string (nullable = true)\n",
      " |-- SOVisit1st: string (nullable = true)\n",
      " |-- SOVisitFreq: string (nullable = true)\n",
      " |-- SOVisitTo: string (nullable = true)\n",
      " |-- SOFindAnswer: string (nullable = true)\n",
      " |-- SOTimeSaved: string (nullable = true)\n",
      " |-- SOHowMuchTime: string (nullable = true)\n",
      " |-- SOAccount: string (nullable = true)\n",
      " |-- SOPartFreq: string (nullable = true)\n",
      " |-- SOJobs: string (nullable = true)\n",
      " |-- EntTeams: string (nullable = true)\n",
      " |-- SOComm: string (nullable = true)\n",
      " |-- WelcomeChange: string (nullable = true)\n",
      " |-- SONewContent: string (nullable = true)\n",
      " |-- Age: integer (nullable = true)\n",
      " |-- Gender: string (nullable = true)\n",
      " |-- Trans: string (nullable = true)\n",
      " |-- Sexuality: string (nullable = true)\n",
      " |-- Ethnicity: string (nullable = true)\n",
      " |-- Dependents: string (nullable = true)\n",
      " |-- SurveyLength: string (nullable = true)\n",
      " |-- SurveyEase: string (nullable = true)\n",
      "\n"
     ]
    }
   ],
   "source": [
    "df_2019_survey.printSchema()"
   ]
  },
  {
   "cell_type": "code",
   "execution_count": 40,
   "metadata": {},
   "outputs": [
    {
     "name": "stdout",
     "output_type": "stream",
     "text": [
      "+--------------------+------------------+\n",
      "|              Gender|          avg(Age)|\n",
      "+--------------------+------------------+\n",
      "|                 Man|30.424181874074282|\n",
      "|                  NA| 30.35640785781104|\n",
      "|Man;Non-binary, g...|28.908536585365855|\n",
      "|           Woman;Man| 26.23170731707317|\n",
      "|Woman;Man;Non-bin...| 29.78723404255319|\n",
      "|Woman;Non-binary,...|28.210884353741495|\n",
      "|Non-binary, gende...|29.018036072144287|\n",
      "|               Woman| 29.49538679914833|\n",
      "+--------------------+------------------+\n",
      "\n"
     ]
    }
   ],
   "source": [
    "df_2019_survey.select('Gender','Age').groupBy('Gender').avg().show(8)"
   ]
  },
  {
   "attachments": {},
   "cell_type": "markdown",
   "metadata": {},
   "source": [
    "#### 2. Top five countries by number of respondents."
   ]
  },
  {
   "cell_type": "code",
   "execution_count": 68,
   "metadata": {},
   "outputs": [
    {
     "name": "stdout",
     "output_type": "stream",
     "text": [
      "+--------------+----------------------+\n",
      "|       Country|Respondent_countrywise|\n",
      "+--------------+----------------------+\n",
      "| United States|                 20949|\n",
      "|         India|                  9061|\n",
      "|       Germany|                  5866|\n",
      "|United Kingdom|                  5737|\n",
      "|        Canada|                  3395|\n",
      "+--------------+----------------------+\n",
      "only showing top 5 rows\n",
      "\n"
     ]
    }
   ],
   "source": [
    "df_2019_survey.select(\"Country\", \"Respondent\").groupby(\"Country\").agg(count(\"Respondent\"). \\\n",
    "                      alias(\"Respondent_countrywise\")).sort(desc(\"Respondent_countrywise\")).show(5)\n",
    "# new_df.sort(new_df['count'].desc()).show()\n"
   ]
  },
  {
   "cell_type": "code",
   "execution_count": 89,
   "metadata": {},
   "outputs": [
    {
     "name": "stdout",
     "output_type": "stream",
     "text": [
      "+--------------+-----+\n",
      "|       Country|count|\n",
      "+--------------+-----+\n",
      "| United States|20949|\n",
      "|         India| 9061|\n",
      "|       Germany| 5866|\n",
      "|United Kingdom| 5737|\n",
      "|        Canada| 3395|\n",
      "+--------------+-----+\n",
      "only showing top 5 rows\n",
      "\n"
     ]
    }
   ],
   "source": [
    "df_2019_survey.select(\"Country\", \"Respondent\").groupby(\"Country\").count().sort(desc(\"count\")).show(5)"
   ]
  },
  {
   "attachments": {},
   "cell_type": "markdown",
   "metadata": {},
   "source": [
    "#### 3. The oldest age to write the first line of code or program for United States respondents with a computer   science, computer engineering, software engineering, mathematics, or statistics degree."
   ]
  },
  {
   "cell_type": "code",
   "execution_count": 59,
   "metadata": {},
   "outputs": [],
   "source": [
    "df_2019_survey = df_2019_survey.withColumn(\"Age1stCode\", df_2019_survey.Age1stCode.cast(IntegerType()))"
   ]
  },
  {
   "cell_type": "code",
   "execution_count": 62,
   "metadata": {},
   "outputs": [
    {
     "name": "stdout",
     "output_type": "stream",
     "text": [
      "+-------------+--------------------+----------+\n",
      "|      Country|      UndergradMajor|Age1stCode|\n",
      "+-------------+--------------------+----------+\n",
      "|United States|Mathematics or st...|        56|\n",
      "|United States|Computer science,...|        54|\n",
      "|United States|Computer science,...|        50|\n",
      "|United States|Computer science,...|        50|\n",
      "|United States|Computer science,...|        50|\n",
      "|United States|Computer science,...|        49|\n",
      "|United States|Computer science,...|        49|\n",
      "|United States|Computer science,...|        48|\n",
      "|United States|Computer science,...|        47|\n",
      "|United States|Computer science,...|        46|\n",
      "|United States|Computer science,...|        43|\n",
      "|United States|Computer science,...|        42|\n",
      "|United States|Computer science,...|        41|\n",
      "|United States|Mathematics or st...|        41|\n",
      "|United States|Computer science,...|        40|\n",
      "|United States|Computer science,...|        40|\n",
      "|United States|Computer science,...|        40|\n",
      "|United States|Computer science,...|        40|\n",
      "|United States|Computer science,...|        40|\n",
      "|United States|Computer science,...|        36|\n",
      "|United States|Computer science,...|        36|\n",
      "|United States|Computer science,...|        36|\n",
      "|United States|Mathematics or st...|        35|\n",
      "|United States|Computer science,...|        35|\n",
      "|United States|Mathematics or st...|        35|\n",
      "|United States|Computer science,...|        35|\n",
      "|United States|Computer science,...|        35|\n",
      "|United States|Computer science,...|        35|\n",
      "|United States|Computer science,...|        35|\n",
      "|United States|Computer science,...|        34|\n",
      "|United States|Computer science,...|        34|\n",
      "|United States|Computer science,...|        34|\n",
      "|United States|Computer science,...|        34|\n",
      "|United States|Computer science,...|        34|\n",
      "|United States|Computer science,...|        34|\n",
      "|United States|Mathematics or st...|        34|\n",
      "|United States|Computer science,...|        34|\n",
      "|United States|Computer science,...|        34|\n",
      "|United States|Mathematics or st...|        33|\n",
      "|United States|Computer science,...|        33|\n",
      "|United States|Computer science,...|        33|\n",
      "|United States|Computer science,...|        33|\n",
      "|United States|Computer science,...|        33|\n",
      "|United States|Computer science,...|        33|\n",
      "|United States|Computer science,...|        33|\n",
      "|United States|Computer science,...|        33|\n",
      "|United States|Computer science,...|        33|\n",
      "|United States|Computer science,...|        32|\n",
      "|United States|Computer science,...|        32|\n",
      "|United States|Computer science,...|        32|\n",
      "|United States|Computer science,...|        32|\n",
      "|United States|Computer science,...|        32|\n",
      "|United States|Computer science,...|        31|\n",
      "|United States|Computer science,...|        31|\n",
      "|United States|Computer science,...|        31|\n",
      "|United States|Computer science,...|        31|\n",
      "|United States|Mathematics or st...|        31|\n",
      "|United States|Mathematics or st...|        31|\n",
      "|United States|Computer science,...|        31|\n",
      "|United States|Computer science,...|        31|\n",
      "|United States|Computer science,...|        31|\n",
      "|United States|Computer science,...|        30|\n",
      "|United States|Computer science,...|        30|\n",
      "|United States|Computer science,...|        30|\n",
      "|United States|Computer science,...|        30|\n",
      "|United States|Computer science,...|        30|\n",
      "|United States|Computer science,...|        30|\n",
      "|United States|Computer science,...|        30|\n",
      "|United States|Computer science,...|        30|\n",
      "|United States|Computer science,...|        30|\n",
      "|United States|Computer science,...|        30|\n",
      "|United States|Mathematics or st...|        30|\n",
      "|United States|Computer science,...|        30|\n",
      "|United States|Computer science,...|        30|\n",
      "|United States|Computer science,...|        30|\n",
      "|United States|Computer science,...|        30|\n",
      "|United States|Computer science,...|        30|\n",
      "|United States|Computer science,...|        30|\n",
      "|United States|Computer science,...|        30|\n",
      "|United States|Computer science,...|        30|\n",
      "|United States|Computer science,...|        30|\n",
      "|United States|Computer science,...|        30|\n",
      "|United States|Computer science,...|        30|\n",
      "|United States|Computer science,...|        30|\n",
      "|United States|Computer science,...|        30|\n",
      "|United States|Computer science,...|        30|\n",
      "|United States|Computer science,...|        30|\n",
      "|United States|Computer science,...|        30|\n",
      "|United States|Computer science,...|        30|\n",
      "|United States|Computer science,...|        30|\n",
      "|United States|Computer science,...|        30|\n",
      "|United States|Computer science,...|        30|\n",
      "|United States|Computer science,...|        30|\n",
      "|United States|Computer science,...|        30|\n",
      "|United States|Computer science,...|        30|\n",
      "|United States|Computer science,...|        30|\n",
      "|United States|Computer science,...|        30|\n",
      "|United States|Computer science,...|        30|\n",
      "|United States|Computer science,...|        29|\n",
      "|United States|Computer science,...|        29|\n",
      "+-------------+--------------------+----------+\n",
      "only showing top 100 rows\n",
      "\n"
     ]
    }
   ],
   "source": [
    "df_2019_survey.select(\"Country\", \"UndergradMajor\", \"Age1stCode\").filter((df_2019_survey['Country'] == 'United States')\\\n",
    "      & ((df_2019_survey[\"UndergradMajor\"] == \"Computer science, computer engineering, or software engineering\")\\\n",
    "         |(df_2019_survey[\"UndergradMajor\"] == \"Mathematics or statistics\"))).sort(desc('Age1stCode')).show (100)"
   ]
  },
  {
   "cell_type": "code",
   "execution_count": 71,
   "metadata": {},
   "outputs": [
    {
     "name": "stdout",
     "output_type": "stream",
     "text": [
      "+-------------+---------------+\n",
      "|      Country|max(Age1stCode)|\n",
      "+-------------+---------------+\n",
      "|United States|             56|\n",
      "+-------------+---------------+\n",
      "\n"
     ]
    }
   ],
   "source": [
    "df_2019_survey.select(\"Country\",\"UndergradMajor\", \"Age1stCode\",).filter((df_2019_survey['Country'] == 'United States')\\\n",
    "      & ((df_2019_survey[\"UndergradMajor\"] == \"Computer science, computer engineering, or software engineering\")\\\n",
    "         |(df_2019_survey[\"UndergradMajor\"] == \"Mathematics or statistics\"))) \\\n",
    "    .groupby(\"Country\").max(\"Age1stCode\").show()"
   ]
  },
  {
   "attachments": {},
   "cell_type": "markdown",
   "metadata": {},
   "source": [
    "3. The oldest age to write the first line of code or program for United States respondents with a computer   \n",
    "   science, computer engineering, software engineering, mathematics, or statistics degree."
   ]
  },
  {
   "cell_type": "code",
   "execution_count": 67,
   "metadata": {},
   "outputs": [
    {
     "name": "stdout",
     "output_type": "stream",
     "text": [
      "+-------------+--------------------+---------------+\n",
      "|      Country|      UndergradMajor|max(Age1stCode)|\n",
      "+-------------+--------------------+---------------+\n",
      "|United States|Computer science,...|             54|\n",
      "|United States|Mathematics or st...|             56|\n",
      "+-------------+--------------------+---------------+\n",
      "\n"
     ]
    }
   ],
   "source": [
    "df_2019_survey.select(\"Country\", \"UndergradMajor\", \"Age1stCode\").filter((df_2019_survey['Country'] == 'United States')\\\n",
    "      & ((df_2019_survey[\"UndergradMajor\"] == \"Computer science, computer engineering, or software engineering\")\\\n",
    "         |(df_2019_survey[\"UndergradMajor\"] == \"Mathematics or statistics\"))) \\\n",
    "    .groupby(\"Country\", \"UndergradMajor\").max(\"Age1stCode\").show()"
   ]
  }
 ],
 "metadata": {
  "kernelspec": {
   "display_name": "Python 3",
   "language": "python",
   "name": "python3"
  },
  "language_info": {
   "codemirror_mode": {
    "name": "ipython",
    "version": 3
   },
   "file_extension": ".py",
   "mimetype": "text/x-python",
   "name": "python",
   "nbconvert_exporter": "python",
   "pygments_lexer": "ipython3",
   "version": "3.10.10"
  },
  "orig_nbformat": 4,
  "vscode": {
   "interpreter": {
    "hash": "81670ad8e0995f2fc822a82a83fa48c446caeae6dd5f3df703a08b177af58590"
   }
  }
 },
 "nbformat": 4,
 "nbformat_minor": 2
}
